{
 "cells": [
  {
   "cell_type": "code",
   "execution_count": 0,
   "metadata": {
    "application/vnd.databricks.v1+cell": {
     "cellMetadata": {
      "byteLimit": 2048000,
      "rowLimit": 10000
     },
     "inputWidgets": {},
     "nuid": "1143fa26-80d7-4e15-9463-df67bebe36e7",
     "showTitle": false,
     "tableResultSettingsMap": {},
     "title": ""
    }
   },
   "outputs": [],
   "source": [
    "from pyspark.sql.types import *"
   ]
  },
  {
   "cell_type": "code",
   "execution_count": 0,
   "metadata": {
    "application/vnd.databricks.v1+cell": {
     "cellMetadata": {
      "byteLimit": 2048000,
      "rowLimit": 10000
     },
     "inputWidgets": {},
     "nuid": "7cf85fb0-417c-489d-b096-61ee7418c8ed",
     "showTitle": false,
     "tableResultSettingsMap": {},
     "title": ""
    }
   },
   "outputs": [],
   "source": [
    "# from pyspark.sql.types import StructType, StructField, StringType, ArrayType, DoubleType\n",
    "\n",
    "# Define your schema as a StructType\n",
    "json_schema = StructType([\n",
    "    StructField('reporting_entity_name', StringType(), True),\n",
    "    StructField('reporting_entity_type', StringType(), True),\n",
    "    StructField('plan_name', StringType(), True),\n",
    "    StructField('plan_id_type', StringType(), True),\n",
    "    StructField('plan_id', StringType(), True),\n",
    "    StructField('plan_market_type', StringType(), True),\n",
    "    StructField('last_updated_on', StringType(), True),\n",
    "    StructField('version', StringType(), True),\n",
    "    StructField('out_of_network', ArrayType(\n",
    "        StructType([\n",
    "            StructField('name', StringType(), True),\n",
    "            StructField('billing_code_type', StringType(), True),\n",
    "            StructField('billing_code_type_version', StringType(), True),\n",
    "            StructField('billing_code', StringType(), True),\n",
    "            StructField('description', StringType(), True),\n",
    "            StructField('allowed_amounts', ArrayType(\n",
    "                StructType([\n",
    "                    StructField('tin', StructType([\n",
    "                        StructField('type', StringType(), True),\n",
    "                        StructField('value', StringType(), True)\n",
    "                    ]), True),\n",
    "                    StructField('service_code', ArrayType(StringType()), True),\n",
    "                    StructField('billing_class', StringType(), True),\n",
    "                    StructField('payments', ArrayType(\n",
    "                        StructType([\n",
    "                            StructField('allowed_amount', DoubleType(), True),\n",
    "                            StructField('billing_code_modifier', ArrayType(StringType()), True),\n",
    "                            StructField('providers', ArrayType(\n",
    "                                StructType([\n",
    "                                    StructField('billed_charge', DoubleType(), True),\n",
    "                                    StructField('npi', ArrayType(DoubleType()), True)\n",
    "                                ]), True)\n",
    "                            )\n",
    "                        ]), True)\n",
    "                    )\n",
    "                ]), True)\n",
    "            )\n",
    "        ]), True)\n",
    "    )\n",
    "])\n",
    "\n",
    "# Convert the StructType to a DDL string\n",
    "json_schema_ddl = json_schema.simpleString()\n",
    "\n",
    "# print the ddl as a simple string\n",
    "print(json_schema_ddl)"
   ]
  },
  {
   "cell_type": "code",
   "execution_count": 0,
   "metadata": {
    "application/vnd.databricks.v1+cell": {
     "cellMetadata": {
      "byteLimit": 2048000,
      "rowLimit": 10000
     },
     "inputWidgets": {},
     "nuid": "b02c43e3-473e-417b-b476-8e1bbad922e6",
     "showTitle": false,
     "tableResultSettingsMap": {},
     "title": ""
    }
   },
   "outputs": [],
   "source": [
    "# Define your schema as a StructType\n",
    "in_network = StructType([\n",
    "    StructField('reporting_entity_name', StringType(), True),\n",
    "    StructField('reporting_entity_type', StringType(), True),\n",
    "    StructField('plan_name', StringType(), True),\n",
    "    StructField('plan_id_type', StringType(), True),\n",
    "    StructField('plan_id', StringType(), True),\n",
    "    StructField('plan_market_type', StringType(), True),\n",
    "    StructField('last_updated_on', StringType(), True),\n",
    "    StructField('version', StringType(), True),\n",
    "    StructField('provider_references', ArrayType(\n",
    "        StructType([\n",
    "            StructField('provider_group_id', DoubleType(), True),\n",
    "            StructField('provider_groups', ArrayType(\n",
    "                StructType([\n",
    "                    StructField('npi', ArrayType(DoubleType()), True),\n",
    "                    StructField('tin', StructType([\n",
    "                        StructField('type', StringType(), True),\n",
    "                        StructField('value', StringType(), True)\n",
    "                    ]), True)\n",
    "                ]), True\n",
    "            ), True),\n",
    "            StructField('location', StringType(), True)\n",
    "        ]), True\n",
    "    ), True),\n",
    "    StructField('in_network', ArrayType(\n",
    "        StructType([\n",
    "            StructField('negotiation_arrangement', StringType(), True),\n",
    "            StructField('name', StringType(), True),\n",
    "            StructField('billing_code_type', StringType(), True),\n",
    "            StructField('billing_code_type_version', StringType(), True),\n",
    "            StructField('billing_code', StringType(), True),\n",
    "            StructField('description', StringType(), True),\n",
    "            StructField('negotiated_rates', ArrayType(\n",
    "                StructType([\n",
    "                    StructField('negotiated_prices', ArrayType(\n",
    "                        StructType([\n",
    "                            StructField('service_code', ArrayType(StringType()), True),\n",
    "                            StructField('billing_class', StringType(), True),\n",
    "                            StructField('negotiated_type', StringType(), True),\n",
    "                            StructField('billing_code_modifier', ArrayType(StringType()), True),\n",
    "                            StructField('negotiated_rate', DoubleType(), True),\n",
    "                            StructField('expiration_date', StringType(), True),\n",
    "                            StructField('additional_information', StringType(), True)\n",
    "                        ]), True\n",
    "                    ), True),\n",
    "                    StructField('provider_groups', ArrayType(\n",
    "                        StructType([\n",
    "                            StructField('npi', ArrayType(DoubleType()), True),\n",
    "                            StructField('tin', StructType([\n",
    "                                StructField('type', StringType(), True),\n",
    "                                StructField('value', StringType(), True)\n",
    "                            ]), True)\n",
    "                        ]), True\n",
    "                    ), True),\n",
    "                    StructField('provider_references', ArrayType(DoubleType(), True), True)\n",
    "                ]), True\n",
    "            ), True),\n",
    "            StructField('covered_services', ArrayType(\n",
    "                StructType([\n",
    "                    StructField('billing_code_type', StringType(), True),\n",
    "                    StructField('billing_code_type_version', StringType(), True),\n",
    "                    StructField('billing_code', StringType(), True),\n",
    "                    StructField('description', StringType(), True)\n",
    "                ]), True\n",
    "            ), True),\n",
    "            StructField('bundled_codes', ArrayType(\n",
    "                StructType([\n",
    "                    StructField('billing_code_type', StringType(), True),\n",
    "                    StructField('billing_code_type_version', StringType(), True),\n",
    "                    StructField('billing_code', StringType(), True),\n",
    "                    StructField('description', StringType(), True)\n",
    "                ]), True\n",
    "            ), True)\n",
    "        ]), True\n",
    "    ), True)\n",
    "])\n",
    "\n",
    "# Convert the StructType to a DDL string\n",
    "in_network_ddl = in_network.toDDL()\n",
    "\n",
    "# Use the DDL string in the schema method\n",
    "print(in_network_ddl)"
   ]
  }
 ],
 "metadata": {
  "application/vnd.databricks.v1+notebook": {
   "computePreferences": null,
   "dashboards": [],
   "environmentMetadata": {
    "base_environment": "",
    "environment_version": "3"
   },
   "inputWidgetPreferences": null,
   "language": "python",
   "notebookMetadata": {
    "pythonIndentUnit": 2
   },
   "notebookName": "Simple String DDLs",
   "widgets": {}
  },
  "language_info": {
   "name": "python"
  }
 },
 "nbformat": 4,
 "nbformat_minor": 0
}
