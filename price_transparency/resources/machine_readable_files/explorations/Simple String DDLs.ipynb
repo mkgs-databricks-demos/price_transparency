{
 "cells": [
  {
   "cell_type": "code",
   "execution_count": 0,
   "metadata": {
    "application/vnd.databricks.v1+cell": {
     "cellMetadata": {
      "byteLimit": 2048000,
      "rowLimit": 10000
     },
     "inputWidgets": {},
     "nuid": "1143fa26-80d7-4e15-9463-df67bebe36e7",
     "showTitle": false,
     "tableResultSettingsMap": {},
     "title": ""
    }
   },
   "outputs": [],
   "source": [
    "from pyspark.sql.types import *\n",
    "import json"
   ]
  },
  {
   "cell_type": "code",
   "execution_count": 0,
   "metadata": {
    "application/vnd.databricks.v1+cell": {
     "cellMetadata": {
      "byteLimit": 2048000,
      "rowLimit": 10000
     },
     "inputWidgets": {},
     "nuid": "7cf85fb0-417c-489d-b096-61ee7418c8ed",
     "showTitle": false,
     "tableResultSettingsMap": {},
     "title": ""
    }
   },
   "outputs": [],
   "source": [
    "# from pyspark.sql.types import StructType, StructField, StringType, ArrayType, DoubleType\n",
    "\n",
    "# Define your schema as a StructType\n",
    "json_schema = StructType([\n",
    "    StructField('reporting_entity_name', StringType(), True),\n",
    "    StructField('reporting_entity_type', StringType(), True),\n",
    "    StructField('plan_name', StringType(), True),\n",
    "    StructField('plan_id_type', StringType(), True),\n",
    "    StructField('plan_id', StringType(), True),\n",
    "    StructField('plan_market_type', StringType(), True),\n",
    "    StructField('last_updated_on', StringType(), True),\n",
    "    StructField('version', StringType(), True),\n",
    "    StructField('out_of_network', ArrayType(\n",
    "        StructType([\n",
    "            StructField('name', StringType(), True),\n",
    "            StructField('billing_code_type', StringType(), True),\n",
    "            StructField('billing_code_type_version', StringType(), True),\n",
    "            StructField('billing_code', StringType(), True),\n",
    "            StructField('description', StringType(), True),\n",
    "            StructField('allowed_amounts', ArrayType(\n",
    "                StructType([\n",
    "                    StructField('tin', StructType([\n",
    "                        StructField('type', StringType(), True),\n",
    "                        StructField('value', StringType(), True)\n",
    "                    ]), True),\n",
    "                    StructField('service_code', ArrayType(StringType()), True),\n",
    "                    StructField('billing_class', StringType(), True),\n",
    "                    StructField('payments', ArrayType(\n",
    "                        StructType([\n",
    "                            StructField('allowed_amount', DoubleType(), True),\n",
    "                            StructField('billing_code_modifier', ArrayType(StringType()), True),\n",
    "                            StructField('providers', ArrayType(\n",
    "                                StructType([\n",
    "                                    StructField('billed_charge', DoubleType(), True),\n",
    "                                    StructField('npi', ArrayType(DoubleType()), True)\n",
    "                                ]), True)\n",
    "                            )\n",
    "                        ]), True)\n",
    "                    )\n",
    "                ]), True)\n",
    "            )\n",
    "        ]), True)\n",
    "    )\n",
    "])\n",
    "\n",
    "# Convert the StructType to a DDL string\n",
    "json_schema_ddl = json_schema.toDDL()\n",
    "\n",
    "# print the ddl as a simple string\n",
    "print(json_schema_ddl)"
   ]
  },
  {
   "cell_type": "code",
   "execution_count": 0,
   "metadata": {
    "application/vnd.databricks.v1+cell": {
     "cellMetadata": {
      "byteLimit": 2048000,
      "rowLimit": 10000
     },
     "inputWidgets": {},
     "nuid": "b02c43e3-473e-417b-b476-8e1bbad922e6",
     "showTitle": false,
     "tableResultSettingsMap": {},
     "title": ""
    }
   },
   "outputs": [],
   "source": [
    "# Define your schema as a StructType\n",
    "in_network = StructType([\n",
    "    StructField('reporting_entity_name', StringType(), True),\n",
    "    StructField('reporting_entity_type', StringType(), True),\n",
    "    StructField('plan_name', StringType(), True),\n",
    "    StructField('plan_id_type', StringType(), True),\n",
    "    StructField('plan_id', StringType(), True),\n",
    "    StructField('plan_market_type', StringType(), True),\n",
    "    StructField('last_updated_on', StringType(), True),\n",
    "    StructField('version', StringType(), True),\n",
    "    StructField('provider_references', ArrayType(\n",
    "        StructType([\n",
    "            StructField('provider_group_id', DoubleType(), True),\n",
    "            StructField('provider_groups', ArrayType(\n",
    "                StructType([\n",
    "                    StructField('npi', ArrayType(DoubleType()), True),\n",
    "                    StructField('tin', StructType([\n",
    "                        StructField('type', StringType(), True),\n",
    "                        StructField('value', StringType(), True)\n",
    "                    ]), True)\n",
    "                ]), True\n",
    "            ), True),\n",
    "            StructField('location', StringType(), True)\n",
    "        ]), True\n",
    "    ), True),\n",
    "    StructField('in_network', ArrayType(\n",
    "        StructType([\n",
    "            StructField('negotiation_arrangement', StringType(), True),\n",
    "            StructField('name', StringType(), True),\n",
    "            StructField('billing_code_type', StringType(), True),\n",
    "            StructField('billing_code_type_version', StringType(), True),\n",
    "            StructField('billing_code', StringType(), True),\n",
    "            StructField('description', StringType(), True),\n",
    "            StructField('negotiated_rates', ArrayType(\n",
    "                StructType([\n",
    "                    StructField('negotiated_prices', ArrayType(\n",
    "                        StructType([\n",
    "                            StructField('service_code', ArrayType(StringType()), True),\n",
    "                            StructField('billing_class', StringType(), True),\n",
    "                            StructField('negotiated_type', StringType(), True),\n",
    "                            StructField('billing_code_modifier', ArrayType(StringType()), True),\n",
    "                            StructField('negotiated_rate', DoubleType(), True),\n",
    "                            StructField('expiration_date', StringType(), True),\n",
    "                            StructField('additional_information', StringType(), True)\n",
    "                        ]), True\n",
    "                    ), True),\n",
    "                    StructField('provider_groups', ArrayType(\n",
    "                        StructType([\n",
    "                            StructField('npi', ArrayType(DoubleType()), True),\n",
    "                            StructField('tin', StructType([\n",
    "                                StructField('type', StringType(), True),\n",
    "                                StructField('value', StringType(), True)\n",
    "                            ]), True)\n",
    "                        ]), True\n",
    "                    ), True),\n",
    "                    StructField('provider_references', ArrayType(DoubleType(), True), True)\n",
    "                ]), True\n",
    "            ), True),\n",
    "            StructField('covered_services', ArrayType(\n",
    "                StructType([\n",
    "                    StructField('billing_code_type', StringType(), True),\n",
    "                    StructField('billing_code_type_version', StringType(), True),\n",
    "                    StructField('billing_code', StringType(), True),\n",
    "                    StructField('description', StringType(), True)\n",
    "                ]), True\n",
    "            ), True),\n",
    "            StructField('bundled_codes', ArrayType(\n",
    "                StructType([\n",
    "                    StructField('billing_code_type', StringType(), True),\n",
    "                    StructField('billing_code_type_version', StringType(), True),\n",
    "                    StructField('billing_code', StringType(), True),\n",
    "                    StructField('description', StringType(), True)\n",
    "                ]), True\n",
    "            ), True)\n",
    "        ]), True\n",
    "    ), True)\n",
    "])\n",
    "\n",
    "# Convert the StructType to a DDL string\n",
    "in_network_ddl = in_network.toDDL()\n",
    "\n",
    "# Use the DDL string in the schema method\n",
    "print(in_network_ddl)"
   ]
  },
  {
   "cell_type": "code",
   "execution_count": 0,
   "metadata": {
    "application/vnd.databricks.v1+cell": {
     "cellMetadata": {
      "byteLimit": 2048000,
      "rowLimit": 10000
     },
     "inputWidgets": {},
     "nuid": "7bef92ab-2638-42be-a202-bc4690e97d43",
     "showTitle": false,
     "tableResultSettingsMap": {},
     "title": ""
    }
   },
   "outputs": [],
   "source": [
    "json_string = \"{'type':'struct','fields':[{'name':'reporting_entity_name','type':'string','nullable':true,'metadata':{}},{'name':'reporting_entity_type','type':'string','nullable':true,'metadata':{}},{'name':'plan_name','type':'string','nullable':true,'metadata':{}},{'name':'plan_id_type','type':'string','nullable':true,'metadata':{}},{'name':'plan_id','type':'string','nullable':true,'metadata':{}},{'name':'plan_market_type','type':'string','nullable':true,'metadata':{}},{'name':'last_updated_on','type':'string','nullable':true,'metadata':{}},{'name':'version','type':'string','nullable':true,'metadata':{}},{'name':'out_of_network','type':'array','nullable':true,'elementType':{'type':'struct','fields':[{'name':'name','type':'string','nullable':true,'metadata':{}},{'name':'billing_code_type','type':'string','nullable':true,'metadata':{}},{'name':'billing_code_type_version','type':'string','nullable':true,'metadata':{}},{'name':'billing_code','type':'string','nullable':true,'metadata':{}},{'name':'description','type':'string','nullable':true,'metadata':{}},{'name':'allowed_amounts','type':'array','nullable':true,'elementType':{'type':'struct','fields':[{'name':'tin','type':{'type':'struct','fields':[{'name':'type','type':'string','nullable':true,'metadata':{}},{'name':'value','type':'string','nullable':true,'metadata':{}}]},'nullable':true,'metadata':{}},{'name':'service_code','type':{'type':'array','elementType':'string','containsNull':true},'nullable':true,'metadata':{}},{'name':'billing_class','type':'string','nullable':true,'metadata':{}},{'name':'payments','type':{'type':'array','elementType':{'type':'struct','fields':[{'name':'allowed_amount','type':'double','nullable':true,'metadata':{}},{'name':'billing_code_modifier','type':{'type':'array','elementType':'string','containsNull':true},'nullable':true,'metadata':{}},{'name':'providers','type':{'type':'array','elementType':{'type':'struct','fields':[{'name':'billed_charge','type':'double','nullable':true,'metadata':{}},{'name':'npi','type':{'type':'array','elementType':'double','containsNull':true},'nullable':true,'metadata':{}}]},'containsNull':true},'nullable':true,'metadata':{}}]},'containsNull':true},'nullable':true,'metadata':{}}]}}]}}]}\"\n",
    "\n",
    "json_string"
   ]
  },
  {
   "cell_type": "code",
   "execution_count": 0,
   "metadata": {
    "application/vnd.databricks.v1+cell": {
     "cellMetadata": {
      "byteLimit": 2048000,
      "rowLimit": 10000
     },
     "inputWidgets": {},
     "nuid": "f0635f0a-be21-4b1c-8f5a-af808e793a6e",
     "showTitle": false,
     "tableResultSettingsMap": {},
     "title": ""
    }
   },
   "outputs": [],
   "source": [
    "json_string_fixed = json_string.replace(\"'\", '\"').replace('true', 'true').replace('false', 'false')\n",
    "# Load the JSON to ensure it's valid\n",
    "json_dict = json.loads(json_string_fixed)"
   ]
  },
  {
   "cell_type": "code",
   "execution_count": 0,
   "metadata": {
    "application/vnd.databricks.v1+cell": {
     "cellMetadata": {
      "byteLimit": 2048000,
      "rowLimit": 10000
     },
     "inputWidgets": {},
     "nuid": "0d663c88-3826-45a4-9378-31de372789be",
     "showTitle": false,
     "tableResultSettingsMap": {},
     "title": ""
    }
   },
   "outputs": [],
   "source": [
    "# Extract the \"fields\" key from the dictionary\n",
    "fields = json_dict.get(\"fields\", [])\n",
    "\n",
    "# Create a list of StructFields from the extracted fields\n",
    "struct_fields = [StructField(field[\"name\"], field[\"type\"], field.get(\"nullable\", True)) for field in fields]\n",
    "\n",
    "# Create a StructType object using the list of StructFields\n",
    "struct_type = StructType(struct_fields)"
   ]
  },
  {
   "cell_type": "code",
   "execution_count": 0,
   "metadata": {
    "application/vnd.databricks.v1+cell": {
     "cellMetadata": {},
     "inputWidgets": {},
     "nuid": "9eaec2d7-ed78-488e-a779-108f8ab721d8",
     "showTitle": false,
     "tableResultSettingsMap": {},
     "title": ""
    }
   },
   "outputs": [],
   "source": [
    "{\n",
    "  \"file_type\": \"in_network_json\",\n",
    "  \"file_desc\": \"in network price transparency json\",\n",
    "  \"file_extention\": \"json\",\n",
    "  \"cleanSource\": \"OFF\",\n",
    "  \"cleanSource_retentionDuration\": \"7 days\",\n",
    "  \"volume_sub_path\": \"in-network/test\",\n",
    "  \"maxFilesPerTrigger\": 1,\n",
    "  \"cloudFiles_useNotifications\": \"false\",\n",
    "  \"useSchemaHints\": false,\n",
    "  \"schemaHints\": \"reporting_entity_name STRING, reporting_entity_type STRING, plan_name STRING, plan_id_type STRING, plan_id STRING, plan_market_type STRING, last_updated_on STRING, version STRING, provider_references ARRAY<STRUCT<provider_group_id DOUBLE, provider_groups ARRAY<STRUCT<npi ARRAY<DOUBLE>, tin STRUCT<type STRING, value STRING>>>, location STRING>>, in_network ARRAY<STRUCT<negotiation_arrangement STRING, name STRING, billing_code_type STRING, billing_code_type_version STRING, billing_code STRING, description STRING, negotiated_rates ARRAY<STRUCT<negotiated_prices ARRAY<STRUCT<service_code ARRAY<STRING>, billing_class STRING, negotiated_type STRING, billing_code_modifier ARRAY<STRING>, negotiated_rate DOUBLE, expiration_date STRING, additional_information STRING>>, provider_groups ARRAY<STRUCT<npi ARRAY<DOUBLE>, tin STRUCT<type STRING, value STRING>>>, provider_references ARRAY<DOUBLE>>>, covered_services ARRAY<STRUCT<billing_code_type STRING, billing_code_type_version STRING, billing_code STRING, description STRING>>, bundled_codes ARRAY<STRUCT<billing_code_type STRING, billing_code_type_version STRING, billing_code STRING, description STRING>>>>\",\n",
    "  \"simpleStringJson\": \"reporting_entity_name STRING,reporting_entity_type STRING,plan_name STRING,plan_id_type STRING,plan_id STRING,plan_market_type STRING,last_updated_on STRING,version STRING,provider_references ARRAY<STRUCT<provider_group_id: DOUBLE, provider_groups: ARRAY<STRUCT<npi: ARRAY<DOUBLE>, tin: STRUCT<type: STRING, value: STRING>>>, location: STRING>>,in_network ARRAY<STRUCT<negotiation_arrangement: STRING, name: STRING, billing_code_type: STRING, billing_code_type_version: STRING, billing_code: STRING, description: STRING, negotiated_rates: ARRAY<STRUCT<negotiated_prices: ARRAY<STRUCT<service_code: ARRAY<STRING>, billing_class: STRING, negotiated_type: STRING, billing_code_modifier: ARRAY<STRING>, negotiated_rate: DOUBLE, expiration_date: STRING, additional_information: STRING>>, provider_groups: ARRAY<STRUCT<npi: ARRAY<DOUBLE>, tin: STRUCT<type: STRING, value: STRING>>>, provider_references: ARRAY<DOUBLE>>>, covered_services: ARRAY<STRUCT<billing_code_type: STRING, billing_code_type_version: STRING, billing_code: STRING, description: STRING>>, bundled_codes: ARRAY<STRUCT<billing_code_type: STRING, billing_code_type_version: STRING, billing_code: STRING, description: STRING>>>>\",\n",
    "  \"jsonSchema\": \"{\\\"type\\\":\\\"struct\\\",\\\"fields\\\":[{\\\"name\\\":\\\"reporting_entity_name\\\",\\\"type\\\":\\\"string\\\",\\\"nullable\\\":true},{\\\"name\\\":\\\"reporting_entity_type\\\",\\\"type\\\":\\\"string\\\",\\\"nullable\\\":true},{\\\"name\\\":\\\"plan_name\\\",\\\"type\\\":\\\"string\\\",\\\"nullable\\\":true},{\\\"name\\\":\\\"plan_id_type\\\",\\\"type\\\":\\\"string\\\",\\\"nullable\\\":true},{\\\"name\\\":\\\"plan_id\\\",\\\"type\\\":\\\"string\\\",\\\"nullable\\\":true},{\\\"name\\\":\\\"plan_market_type\\\",\\\"type\\\":\\\"string\\\",\\\"nullable\\\":true},{\\\"name\\\":\\\"last_updated_on\\\",\\\"type\\\":\\\"string\\\",\\\"nullable\\\":true},{\\\"name\\\":\\\"version\\\",\\\"type\\\":\\\"string\\\",\\\"nullable\\\":true},{\\\"name\\\":\\\"provider_references\\\",\\\"type\\\":\\\"array\\\",\\\"elementType\\\":{\\\"type\\\":\\\"struct\\\",\\\"fields\\\":[{\\\"name\\\":\\\"provider_group_id\\\",\\\"type\\\":\\\"double\\\",\\\"nullable\\\":true},{\\\"name\\\":\\\"provider_groups\\\",\\\"type\\\":\\\"array\\\",\\\"elementType\\\":{\\\"type\\\":\\\"struct\\\",\\\"fields\\\":[{\\\"name\\\":\\\"npi\\\",\\\"type\\\":\\\"array\\\",\\\"elementType\\\":\\\"double\\\",\\\"nullable\\\":true},{\\\"name\\\":\\\"tin\\\",\\\"type\\\":\\\"struct\\\",\\\"fields\\\":[{\\\"name\\\":\\\"type\\\",\\\"type\\\":\\\"string\\\",\\\"nullable\\\":true},{\\\"name\\\":\\\"value\\\",\\\"type\\\":\\\"string\\\",\\\"nullable\\\":true}],\\\"nullable\\\":true}],\\\"nullable\\\":true},\\\"nullable\\\":true},{\\\"name\\\":\\\"location\\\",\\\"type\\\":\\\"string\\\",\\\"nullable\\\":true}],\\\"nullable\\\":true},\\\"nullable\\\":true},{\\\"name\\\":\\\"in_network\\\",\\\"type\\\":\\\"array\\\",\\\"elementType\\\":{\\\"type\\\":\\\"struct\\\",\\\"fields\\\":[{\\\"name\\\":\\\"negotiation_arrangement\\\",\\\"type\\\":\\\"string\\\",\\\"nullable\\\":true},{\\\"name\\\":\\\"name\\\",\\\"type\\\":\\\"string\\\",\\\"nullable\\\":true},{\\\"name\\\":\\\"billing_code_type\\\",\\\"type\\\":\\\"string\\\",\\\"nullable\\\":true},{\\\"name\\\":\\\"billing_code_type_version\\\",\\\"type\\\":\\\"string\\\",\\\"nullable\\\":true},{\\\"name\\\":\\\"billing_code\\\",\\\"type\\\":\\\"string\\\",\\\"nullable\\\":true},{\\\"name\\\":\\\"description\\\",\\\"type\\\":\\\"string\\\",\\\"nullable\\\":true},{\\\"name\\\":\\\"negotiated_rates\\\",\\\"type\\\":\\\"array\\\",\\\"elementType\\\":{\\\"type\\\":\\\"struct\\\",\\\"fields\\\":[{\\\"name\\\":\\\"negotiated_prices\\\",\\\"type\\\":\\\"array\\\",\\\"elementType\\\":{\\\"type\\\":\\\"struct\\\",\\\"fields\\\":[{\\\"name\\\":\\\"service_code\\\",\\\"type\\\":\\\"array\\\",\\\"elementType\\\":\\\"string\\\",\\\"nullable\\\":true},{\\\"name\\\":\\\"billing_class\\\",\\\"type\\\":\\\"string\\\",\\\"nullable\\\":true},{\\\"name\\\":\\\"negotiated_type\\\",\\\"type\\\":\\\"string\\\",\\\"nullable\\\":true},{\\\"name\\\":\\\"billing_code_modifier\\\",\\\"type\\\":\\\"array\\\",\\\"elementType\\\":\\\"string\\\",\\\"nullable\\\":true},{\\\"name\\\":\\\"negotiated_rate\\\",\\\"type\\\":\\\"double\\\",\\\"nullable\\\":true},{\\\"name\\\":\\\"expiration_date\\\",\\\"type\\\":\\\"string\\\",\\\"nullable\\\":true},{\\\"name\\\":\\\"additional_information\\\",\\\"type\\\":\\\"string\\\",\\\"nullable\\\":true}],\\\"nullable\\\":true},\\\"nullable\\\":true},{\\\"name\\\":\\\"provider_groups\\\",\\\"type\\\":\\\"array\\\",\\\"elementType\\\":{\\\"type\\\":\\\"struct\\\",\\\"fields\\\":[{\\\"name\\\":\\\"npi\\\",\\\"type\\\":\\\"array\\\",\\\"elementType\\\":\\\"double\\\",\\\"nullable\\\":true},{\\\"name\\\":\\\"tin\\\",\\\"type\\\":\\\"struct\\\",\\\"fields\\\":[{\\\"name\\\":\\\"type\\\",\\\"type\\\":\\\"string\\\",\\\"nullable\\\":true},{\\\"name\\\":\\\"value\\\",\\\"type\\\":\\\"string\\\",\\\"nullable\\\":true}],\\\"nullable\\\":true}],\\\"nullable\\\":true},\\\"nullable\\\":true},{\\\"name\\\":\\\"provider_references\\\",\\\"type\\\":\\\"array\\\",\\\"elementType\\\":\\\"double\\\",\\\"nullable\\\":true}],\\\"nullable\\\":true},\\\"nullable\\\":true},{\\\"name\\\":\\\"covered_services\\\",\\\"type\\\":\\\"array\\\",\\\"elementType\\\":{\\\"type\\\":\\\"struct\\\",\\\"fields\\\":[{\\\"name\\\":\\\"billing_code_type\\\",\\\"type\\\":\\\"string\\\",\\\"nullable\\\":true},{\\\"name\\\":\\\"billing_code_type_version\\\",\\\"type\\\":\\\"string\\\",\\\"nullable\\\":true},{\\\"name\\\":\\\"billing_code\\\",\\\"type\\\":\\\"string\\\",\\\"nullable\\\":true},{\\\"name\\\":\\\"description\\\",\\\"type\\\":\\\"string\\\",\\\"nullable\\\":true}],\\\"nullable\\\":true},\\\"nullable\\\":true},{\\\"name\\\":\\\"bundled_codes\\\",\\\"type\\\":\\\"array\\\",\\\"elementType\\\":{\\\"type\\\":\\\"struct\\\",\\\"fields\\\":[{\\\"name\\\":\\\"billing_code_type\\\",\\\"type\\\":\\\"string\\\",\\\"nullable\\\":true},{\\\"name\\\":\\\"billing_code_type_version\\\",\\\"type\\\":\\\"string\\\",\\\"nullable\\\":true},{\\\"name\\\":\\\"billing_code\\\",\\\"type\\\":\\\"string\\\",\\\"nullable\\\":true},{\\\"name\\\":\\\"description\\\",\\\"type\\\":\\\"string\\\",\\\"nullable\\\":true}],\\\"nullable\\\":true},\\\"nullable\\\":true}]}\",\n",
    "  \"structTypes\": \"StructType([StructField('reporting_entity_name', StringType(), True), StructField('reporting_entity_type', StringType(), True), StructField('plan_name', StringType(), True), StructField('plan_id_type', StringType(), True), StructField('plan_id', StringType(), True), StructField('plan_market_type', StringType(), True), StructField('last_updated_on', StringType(), True), StructField('version', StringType(), True), StructField('provider_references', ArrayType(StructType([StructField('provider_group_id', DoubleType(), True), StructField('provider_groups', ArrayType(StructType([StructField('npi', ArrayType(DoubleType()), True), StructField('tin', StructType([StructField('type', StringType(), True), StructField('value', StringType(), True)]), True)]), True), True), StructField('location', StringType(), True)]), True), True), StructField('in_network', ArrayType(StructType([StructField('negotiation_arrangement', StringType(), True), StructField('name', StringType(), True), StructField('billing_code_type', StringType(), True), StructField('billing_code_type_version', StringType(), True), StructField('billing_code', StringType(), True), StructField('description', StringType(), True), StructField('negotiated_rates', ArrayType(StructType([StructField('negotiated_prices', ArrayType(StructType([StructField('service_code', ArrayType(StringType()), True), StructField('billing_class', StringType(), True), StructField('negotiated_type', StringType(), True), StructField('billing_code_modifier', ArrayType(StringType()), True), StructField('negotiated_rate', DoubleType(), True), StructField('expiration_date', StringType(), True), StructField('additional_information', StringType(), True)]), True), True), StructField('provider_groups', ArrayType(StructType([StructField('npi', ArrayType(DoubleType()), True), StructField('tin', StructType([StructField('type', StringType(), True), StructField('value', StringType(), True)]), True)]), True), True), StructField('provider_references', ArrayType(DoubleType(), True), True)]), True), True), StructField('covered_services', ArrayType(StructType([StructField('billing_code_type', StringType(), True), StructField('billing_code_type_version', StringType(), True), StructField('billing_code', StringType(), True), StructField('description', StringType(), True)]), True), True), StructField('bundled_codes', ArrayType(StructType([StructField('billing_code_type', StringType(), True), StructField('billing_code_type_version', StringType(), True), StructField('billing_code', StringType(), True), StructField('description', StringType(), True)]), True), True)]), True), True)])])\"\n",
    "}"
   ]
  },
  {
   "cell_type": "code",
   "execution_count": 0,
   "metadata": {
    "application/vnd.databricks.v1+cell": {
     "cellMetadata": {},
     "inputWidgets": {},
     "nuid": "59af04ba-92e2-468c-bd5e-af6fa135c3f2",
     "showTitle": false,
     "tableResultSettingsMap": {},
     "title": ""
    }
   },
   "outputs": [],
   "source": [
    "{\n",
    "  \"file_type\": \"allowed_amount_json\",\n",
    "  \"file_desc\": \"out of network allowed amounts price transparency json\",\n",
    "  \"file_extention\": \"json\",\n",
    "  \"cleanSource\": \"OFF\",\n",
    "  \"cleanSource_retentionDuration\": \"7 days\",\n",
    "  \"volume_sub_path\": \"allowed-amount/uncompressed\",\n",
    "  \"maxFilesPerTrigger\": 100,\n",
    "  \"cloudFiles_useNotifications\": \"false\",\n",
    "  \"useSchemaHints\": false,\n",
    "  \"schemaHints\": \"reporting_entity_name STRING, reporting_entity_type STRING, plan_name STRING, plan_id_type STRING, plan_id STRING, plan_market_type STRING, last_updated_on STRING, version STRING, out_of_network ARRAY<STRUCT<name STRING, billing_code_type STRING, billing_code_type_version STRING, billing_code STRING, description STRING, allowed_amounts ARRAY<STRUCT<tin STRUCT<type STRING, value STRING>, service_code ARRAY<STRING>, billing_class STRING, payments ARRAY<STRUCT<allowed_amount DOUBLE, billing_code_modifier ARRAY<STRING>, providers ARRAY<STRUCT<billed_charge DOUBLE, npi ARRAY<DOUBLE>>>>>>>>>\",\n",
    "  \"simpleStringSchema\": \"struct<reporting_entity_name:string,reporting_entity_type:string,plan_name:string,plan_id_type:string,plan_id:string,plan_market_type:string,last_updated_on:string,version:string,out_of_network:array<struct<name:string,billing_code_type:string,billing_code_type_version:string,billing_code:string,description:string,allowed_amounts:array<struct<tin:struct<type:string,value:string>,service_code:array<string>,billing_class:string,payments:array<struct<allowed_amount:double,billing_code_modifier:array<string>,providers:array<struct<billed_charge:double,npi:array<double>>>>>>>>>>\",\n",
    "  \"jsonSchema\": \"{\\\"type\\\":\\\"struct\\\",\\\"fields\\\":[{\\\"name\\\":\\\"reporting_entity_name\\\",\\\"type\\\":\\\"string\\\",\\\"nullable\\\":true,\\\"metadata\\\":{}},{\\\"name\\\":\\\"reporting_entity_type\\\",\\\"type\\\":\\\"string\\\",\\\"nullable\\\":true,\\\"metadata\\\":{}},{\\\"name\\\":\\\"plan_name\\\",\\\"type\\\":\\\"string\\\",\\\"nullable\\\":true,\\\"metadata\\\":{}},{\\\"name\\\":\\\"plan_id_type\\\",\\\"type\\\":\\\"string\\\",\\\"nullable\\\":true,\\\"metadata\\\":{}},{\\\"name\\\":\\\"plan_id\\\",\\\"type\\\":\\\"string\\\",\\\"nullable\\\":true,\\\"metadata\\\":{}},{\\\"name\\\":\\\"plan_market_type\\\",\\\"type\\\":\\\"string\\\",\\\"nullable\\\":true,\\\"metadata\\\":{}},{\\\"name\\\":\\\"last_updated_on\\\",\\\"type\\\":\\\"string\\\",\\\"nullable\\\":true,\\\"metadata\\\":{}},{\\\"name\\\":\\\"version\\\",\\\"type\\\":\\\"string\\\",\\\"nullable\\\":true,\\\"metadata\\\":{}},{\\\"name\\\":\\\"out_of_network\\\",\\\"type\\\":\\\"array\\\",\\\"nullable\\\":true,\\\"elementType\\\":{\\\"type\\\":\\\"struct\\\",\\\"fields\\\":[{\\\"name\\\":\\\"name\\\",\\\"type\\\":\\\"string\\\",\\\"nullable\\\":true,\\\"metadata\\\":{}},{\\\"name\\\":\\\"billing_code_type\\\",\\\"type\\\":\\\"string\\\",\\\"nullable\\\":true,\\\"metadata\\\":{}},{\\\"name\\\":\\\"billing_code_type_version\\\",\\\"type\\\":\\\"string\\\",\\\"nullable\\\":true,\\\"metadata\\\":{}},{\\\"name\\\":\\\"billing_code\\\",\\\"type\\\":\\\"string\\\",\\\"nullable\\\":true,\\\"metadata\\\":{}},{\\\"name\\\":\\\"description\\\",\\\"type\\\":\\\"string\\\",\\\"nullable\\\":true,\\\"metadata\\\":{}},{\\\"name\\\":\\\"allowed_amounts\\\",\\\"type\\\":\\\"array\\\",\\\"nullable\\\":true,\\\"elementType\\\":{\\\"type\\\":\\\"struct\\\",\\\"fields\\\":[{\\\"name\\\":\\\"tin\\\",\\\"type\\\":{\\\"type\\\":\\\"struct\\\",\\\"fields\\\":[{\\\"name\\\":\\\"type\\\",\\\"type\\\":\\\"string\\\",\\\"nullable\\\":true,\\\"metadata\\\":{}},{\\\"name\\\":\\\"value\\\",\\\"type\\\":\\\"string\\\",\\\"nullable\\\":true,\\\"metadata\\\":{}}]},\\\"nullable\\\":true,\\\"metadata\\\":{}},{\\\"name\\\":\\\"service_code\\\",\\\"type\\\":{\\\"type\\\":\\\"array\\\",\\\"elementType\\\":\\\"string\\\",\\\"containsNull\\\":true},\\\"nullable\\\":true,\\\"metadata\\\":{}},{\\\"name\\\":\\\"billing_class\\\",\\\"type\\\":\\\"string\\\",\\\"nullable\\\":true,\\\"metadata\\\":{}},{\\\"name\\\":\\\"payments\\\",\\\"type\\\":{\\\"type\\\":\\\"array\\\",\\\"elementType\\\":{\\\"type\\\":\\\"struct\\\",\\\"fields\\\":[{\\\"name\\\":\\\"allowed_amount\\\",\\\"type\\\":\\\"double\\\",\\\"nullable\\\":true,\\\"metadata\\\":{}},{\\\"name\\\":\\\"billing_code_modifier\\\",\\\"type\\\":{\\\"type\\\":\\\"array\\\",\\\"elementType\\\":\\\"string\\\",\\\"containsNull\\\":true},\\\"nullable\\\":true,\\\"metadata\\\":{}},{\\\"name\\\":\\\"providers\\\",\\\"type\\\":{\\\"type\\\":\\\"array\\\",\\\"elementType\\\":{\\\"type\\\":\\\"struct\\\",\\\"fields\\\":[{\\\"name\\\":\\\"billed_charge\\\",\\\"type\\\":\\\"double\\\",\\\"nullable\\\":true,\\\"metadata\\\":{}},{\\\"name\\\":\\\"npi\\\",\\\"type\\\":{\\\"type\\\":\\\"array\\\",\\\"elementType\\\":\\\"double\\\",\\\"containsNull\\\":true},\\\"nullable\\\":true,\\\"metadata\\\":{}}]},\\\"containsNull\\\":true},\\\"nullable\\\":true,\\\"metadata\\\":{}}]},\\\"containsNull\\\":true},\\\"nullable\\\":true,\\\"metadata\\\":{}}]}}]}}]}}}\",\n",
    "  \"structTypes\": \"StructType([StructField('reporting_entity_name', StringType(), True), StructField('reporting_entity_type', StringType(), True), StructField('plan_name', StringType(), True), StructField('plan_id_type', StringType(), True), StructField('plan_id', StringType(), True), StructField('plan_market_type', StringType(), True), StructField('last_updated_on', StringType(), True), StructField('version', StringType(), True), StructField('out_of_network', ArrayType(StructType([StructField('name', StringType(), True), StructField('billing_code_type', StringType(), True), StructField('billing_code_type_version', StringType(), True), StructField('billing_code', StringType(), True), StructField('description', StringType(), True), StructField('allowed_amounts', ArrayType(StructType([StructField('tin', StructType([StructField('type', StringType(), True), StructField('value', StringType(), True)]), True), StructField('service_code', ArrayType(StringType()), True), StructField('billing_class', StringType(), True), StructField('payments', ArrayType(StructType([StructField('allowed_amount', DoubleType(), True), StructField('billing_code_modifier', ArrayType(StringType()), True), StructField('providers', ArrayType(StructType([StructField('billed_charge', DoubleType(), True), StructField('npi', ArrayType(DoubleType()), True)]), True))]), True))]), True))]), True))]), True)])\"\n",
    "}"
   ]
  },
  {
   "cell_type": "code",
   "execution_count": 0,
   "metadata": {
    "application/vnd.databricks.v1+cell": {
     "cellMetadata": {
      "byteLimit": 2048000,
      "rowLimit": 10000
     },
     "inputWidgets": {},
     "nuid": "24d21afb-7132-4b1a-a928-fded3c812b99",
     "showTitle": false,
     "tableResultSettingsMap": {},
     "title": ""
    }
   },
   "outputs": [],
   "source": [
    "import json\n",
    "\n",
    "# Fix the JSON string: replace single quotes with double quotes and ensure proper JSON formatting\n",
    "string_version = '{\"type\":\"struct\",\"fields\":[{\"name\":\"reporting_entity_name\",\"type\":\"string\",\"nullable\":true,\"metadata\":{}},{\"name\":\"reporting_entity_type\",\"type\":\"string\",\"nullable\":true,\"metadata\":{}},{\"name\":\"plan_name\",\"type\":\"string\",\"nullable\":true,\"metadata\":{}},{\"name\":\"plan_id_type\",\"type\":\"string\",\"nullable\":true,\"metadata\":{}},{\"name\":\"plan_id\",\"type\":\"string\",\"nullable\":true,\"metadata\":{}},{\"name\":\"plan_market_type\",\"type\":\"string\",\"nullable\":true,\"metadata\":{}},{\"name\":\"last_updated_on\",\"type\":\"string\",\"nullable\":true,\"metadata\":{}},{\"name\":\"version\",\"type\":\"string\",\"nullable\":true,\"metadata\":{}},{\"name\":\"out_of_network\",\"type\":\"array\",\"nullable\":true,\"elementType\":{\"type\":\"struct\",\"fields\":[{\"name\":\"name\",\"type\":\"string\",\"nullable\":true,\"metadata\":{}},{\"name\":\"billing_code_type\",\"type\":\"string\",\"nullable\":true,\"metadata\":{}},{\"name\":\"billing_code_type_version\",\"type\":\"string\",\"nullable\":true,\"metadata\":{}},{\"name\":\"billing_code\",\"type\":\"string\",\"nullable\":true,\"metadata\":{}},{\"name\":\"description\",\"type\":\"string\",\"nullable\":true,\"metadata\":{}},{\"name\":\"allowed_amounts\",\"type\":\"array\",\"nullable\":true,\"elementType\":{\"type\":\"struct\",\"fields\":[{\"name\":\"tin\",\"type\":{\"type\":\"struct\",\"fields\":[{\"name\":\"type\",\"type\":\"string\",\"nullable\":true,\"metadata\":{}},{\"name\":\"value\",\"type\":\"string\",\"nullable\":true,\"metadata\":{}}]},\"nullable\":true,\"metadata\":{}},{\"name\":\"service_code\",\"type\":{\"type\":\"array\",\"elementType\":\"string\",\"containsNull\":true},\"nullable\":true,\"metadata\":{}},{\"name\":\"billing_class\",\"type\":\"string\",\"nullable\":true,\"metadata\":{}},{\"name\":\"payments\",\"type\":{\"type\":\"array\",\"elementType\":{\"type\":\"struct\",\"fields\":[{\"name\":\"allowed_amount\",\"type\":\"double\",\"nullable\":true,\"metadata\":{}},{\"name\":\"billing_code_modifier\",\"type\":{\"type\":\"array\",\"elementType\":\"string\",\"containsNull\":true},\"nullable\":true,\"metadata\":{}},{\"name\":\"providers\",\"type\":{\"type\":\"array\",\"elementType\":{\"type\":\"struct\",\"fields\":[{\"name\":\"billed_charge\",\"type\":\"double\",\"nullable\":true,\"metadata\":{}},{\"name\":\"npi\",\"type\":{\"type\":\"array\",\"elementType\":\"double\",\"containsNull\":true},\"nullable\":true,\"metadata\":{}}]},\"containsNull\":true},\"nullable\":true,\"metadata\":{}}]},\"containsNull\":true},\"nullable\":true,\"metadata\":{}}]}}]}}]}}]}}'\n",
    "\n",
    "# Validate JSON\n",
    "json_dict = json.loads(string_version)"
   ]
  },
  {
   "cell_type": "markdown",
   "metadata": {
    "application/vnd.databricks.v1+cell": {
     "cellMetadata": {},
     "inputWidgets": {},
     "nuid": "a718c18f-7bfa-4df0-a5a7-a3ceb7eb148a",
     "showTitle": false,
     "tableResultSettingsMap": {},
     "title": ""
    }
   },
   "source": [
    "Move Some Files"
   ]
  },
  {
   "cell_type": "code",
   "execution_count": 0,
   "metadata": {
    "application/vnd.databricks.v1+cell": {
     "cellMetadata": {
      "byteLimit": 2048000,
      "rowLimit": 10000
     },
     "inputWidgets": {},
     "nuid": "7d49e3b3-aa7a-4491-9c11-0c047a3d647f",
     "showTitle": false,
     "tableResultSettingsMap": {},
     "title": ""
    }
   },
   "outputs": [],
   "source": [
    "dbutils.fs.cp(\n",
    "  \"/Volumes/mgiglia/dev_matthew_giglia_price_transparency/landing/in-network/uncompressed/2025-08_040_05c0_in-network-rates_1_of_5.json\"\n",
    "  ,\"/Volumes/mgiglia/dev_matthew_giglia_price_transparency/landing/in-network/split/2025-08_040_05c0_in-network-rates_1_of_5.json\"\n",
    ")"
   ]
  }
 ],
 "metadata": {
  "application/vnd.databricks.v1+notebook": {
   "computePreferences": null,
   "dashboards": [],
   "environmentMetadata": {
    "base_environment": "",
    "environment_version": "3"
   },
   "inputWidgetPreferences": null,
   "language": "python",
   "notebookMetadata": {
    "pythonIndentUnit": 2
   },
   "notebookName": "Simple String DDLs",
   "widgets": {}
  },
  "language_info": {
   "name": "python"
  }
 },
 "nbformat": 4,
 "nbformat_minor": 0
}
