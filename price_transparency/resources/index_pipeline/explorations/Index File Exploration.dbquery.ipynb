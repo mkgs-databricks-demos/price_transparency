{
 "cells": [
  {
   "cell_type": "code",
   "execution_count": 0,
   "metadata": {
    "application/vnd.databricks.v1+cell": {
     "cellMetadata": {
      "byteLimit": 10485760,
      "rowLimit": 64000
     },
     "inputWidgets": {},
     "nuid": "15cff2b1-7865-48f8-9664-0566b35793ec",
     "showTitle": false,
     "tableResultSettingsMap": {
      "1": {
       "dataGridStateBlob": "{\"version\":1,\"tableState\":{\"columnPinning\":{\"left\":[\"#row_number#\"],\"right\":[]},\"columnSizing\":{},\"columnVisibility\":{}},\"settings\":{\"columns\":{\"file_location\":{\"format\":{\"preset\":\"string-preset-url\"}}}},\"syncTimestamp\":1756776375677}",
       "filterBlob": null,
       "queryPlanFiltersBlob": null,
       "tableResultIndex": 1
      }
     },
     "title": ""
    }
   },
   "outputs": [],
   "source": [
    "use mgiglia.dev_matthew_giglia_price_transparency;\n",
    "\n",
    "ANALYZE TABLE index_json_bronze COMPUTE STATISTICS FOR ALL COLUMNS;\n",
    "\n",
    "WITH index_variant_bronze as (\n",
    "  FROM index_json_bronze |> \n",
    "  SELECT index_file_source_id, file_metadata, ingest_time, try_parse_json(value) as variant_col\n",
    ")\n",
    ",first_explode as (\n",
    "  FROM index_variant_bronze\n",
    "  ,LATERAL variant_explode(variant_col) |>\n",
    "  SELECT index_file_source_id, file_metadata, ingest_time, key, value |>\n",
    "  PIVOT (first(value) FOR key IN ('reporting_entity_name', 'reporting_entity_type', 'reporting_structure')) |>\n",
    "  SELECT index_file_source_id, file_metadata, ingest_time, reporting_entity_name::string, reporting_entity_type::string, reporting_structure\n",
    ")\n",
    ",second_explode as (FROM first_explode\n",
    ",LATERAL variant_explode(reporting_structure) as reporting_structure\n",
    ",LATERAL variant_explode(reporting_structure.value) as reporting_structure_value |>\n",
    "SELECT index_file_source_id, file_metadata, ingest_time, reporting_entity_name, reporting_entity_type, reporting_structure_value.key as file_type, reporting_structure_value.value)\n",
    "FROM second_explode\n",
    ",LATERAL variant_explode(value) as file_desc\n",
    ",LATERAL variant_explode(file_desc.value) as file_desc_value |>\n",
    "SELECT index_file_source_id, file_metadata, ingest_time, reporting_entity_name, reporting_entity_type, file_type, file_desc.key, file_desc.pos, file_desc_value.key as file_desc_value_key, file_desc_value.pos as file_desc_value_pos, file_desc_value.value as file_desc_value_value|>\n",
    "SELECT * EXCEPT (key, file_desc_value_pos) |>\n",
    "PIVOT (first(file_desc_value_value) FOR file_desc_value_key IN ('description','plan_id_type','plan_id','plan_market_type','plan_name','location')) |> \n",
    "SELECT index_file_source_id, file_metadata, ingest_time, reporting_entity_name, reporting_entity_type, file_type, description::string as file_description, plan_id_type::string as reporting_plan_id_type, plan_id::string as reporting_plan_id, plan_market_type::string as reporting_plan_market_type, plan_name::string as reporting_plan_name, location::string as file_location |>\n",
    "SELECT *, sha2(concat(file_metadata.file_path, ingest_time, reporting_entity_name, reporting_entity_type, file_type, file_description, file_location), 256) as in_network_file_index_id;\n",
    "\n",
    "-- EXPLAIN\n",
    "FROM (FROM (FROM (FROM index_json_bronze WATERMARK rcrd_timestamp DELAY OF INTERVAL 2 SECONDS |> \n",
    "SELECT index_file_source_id, file_metadata, ingest_time, rcrd_timestamp, window(rcrd_timestamp, '2 SECONDS') as rcrd_timestamp_window, try_parse_json(value) as variant_col) \n",
    ",LATERAL variant_explode(variant_col) |>\n",
    "SELECT index_file_source_id, file_metadata, ingest_time, rcrd_timestamp, rcrd_timestamp_window, key, value |>\n",
    "PIVOT (first(value) FOR key IN ('reporting_entity_name', 'reporting_entity_type', 'reporting_structure')) |>\n",
    "SELECT index_file_source_id, file_metadata, ingest_time, rcrd_timestamp, reporting_entity_name::string, reporting_entity_type::string, reporting_structure)\n",
    ",LATERAL variant_explode(reporting_structure) as reporting_structure\n",
    ",LATERAL variant_explode(reporting_structure.value) as reporting_structure_value |>\n",
    "SELECT index_file_source_id, file_metadata, ingest_time, rcrd_timestamp, reporting_entity_name, reporting_entity_type, reporting_structure_value.key as file_type, reporting_structure_value.value)\n",
    ",LATERAL variant_explode(value) as file_desc\n",
    ",LATERAL variant_explode(file_desc.value) as file_desc_value |>\n",
    "SELECT index_file_source_id, file_metadata, ingest_time, rcrd_timestamp, reporting_entity_name, reporting_entity_type, file_type, file_desc.key, file_desc.pos, file_desc_value.key as file_desc_value_key, file_desc_value.pos as file_desc_value_pos, file_desc_value.value as file_desc_value_value|>\n",
    "SELECT * EXCEPT (key, file_desc_value_pos) |>\n",
    "PIVOT (first(file_desc_value_value) FOR file_desc_value_key IN ('description','plan_id_type','plan_id','plan_market_type','plan_name','location')) |> \n",
    "SELECT index_file_source_id, file_metadata, ingest_time, rcrd_timestamp, reporting_entity_name, reporting_entity_type, file_type, description::string as file_description, plan_id_type::string as reporting_plan_id_type, plan_id::string as reporting_plan_id, plan_market_type::string as reporting_plan_market_type, plan_name::string as reporting_plan_name, location::string as file_location |>\n",
    "SELECT *, sha2(concat(file_metadata.file_path, ingest_time, reporting_entity_name, reporting_entity_type, file_type, file_description, file_location), 256) as in_network_file_index_id;\n",
    "\n",
    "\n",
    "\n",
    "-----------------------------------------------\n",
    "CREATE TEMPORARY VIEW index_json_bronze_cdf AS \n",
    "SELECT * FROM TABLE_CHANGES(\"mgiglia.dev_matthew_giglia_price_transparency.index_json_bronze\", 1);\n",
    "\n",
    "SELECT * FROM index_json_bronze_cdf;\n",
    "\n",
    "FROM (FROM (FROM (FROM index_json_bronze_cdf WATERMARK _commit_timestamp DELAY OF INTERVAL 1 MILLISECOND |> \n",
    "  WHERE rcrd_timestamp IS NOT NULL |>\n",
    "  SELECT index_file_source_id, file_metadata, ingest_time, rcrd_timestamp, try_parse_json(value) as variant_col, window(_commit_timestamp, '1 MILLISECOND') as _commit_window, _change_type, _commit_version) \n",
    "  ,LATERAL variant_explode(variant_col) |>\n",
    "  SELECT index_file_source_id, file_metadata, ingest_time, rcrd_timestamp, key, value, _commit_window, _change_type, _commit_version |>\n",
    "  PIVOT (first(value) FOR key IN ('reporting_entity_name', 'reporting_entity_type', 'reporting_structure')) |>\n",
    "  SELECT index_file_source_id, file_metadata, ingest_time, rcrd_timestamp, reporting_entity_name::string, reporting_entity_type::string, reporting_structure, _commit_window, _change_type, _commit_version)\n",
    "  ,LATERAL variant_explode(reporting_structure) as reporting_structure\n",
    "  ,LATERAL variant_explode(reporting_structure.value) as reporting_structure_value |>\n",
    "  SELECT index_file_source_id, file_metadata, ingest_time, rcrd_timestamp, reporting_entity_name, reporting_entity_type, reporting_structure_value.key as file_type, reporting_structure_value.value, _commit_window, _change_type, _commit_version)\n",
    "  ,LATERAL variant_explode(value) as file_desc\n",
    "  ,LATERAL variant_explode(file_desc.value) as file_desc_value |>\n",
    "  WHERE file_type LIKE 'allowed%' |>\n",
    "  SELECT index_file_source_id, file_metadata, ingest_time, rcrd_timestamp, reporting_entity_name, reporting_entity_type, file_type, file_desc.key, file_desc.pos, file_desc_value.key as file_desc_value_key, file_desc_value.pos as file_desc_value_pos, file_desc_value.value as file_desc_value_value, _commit_window, _change_type, _commit_version |>\n",
    "  SELECT * EXCEPT (key, file_desc_value_pos) |>\n",
    "  PIVOT (first(file_desc_value_value) FOR file_desc_value_key IN ('description','plan_id_type','plan_id','plan_market_type','plan_name','location')) |> \n",
    "  SELECT index_file_source_id, file_metadata, ingest_time, rcrd_timestamp, reporting_entity_name, reporting_entity_type, file_type, description::string as file_description, plan_id_type::string as reporting_plan_id_type, plan_id::string as reporting_plan_id, plan_market_type::string as reporting_plan_market_type, plan_name::string as reporting_plan_name, location::string as file_location, _commit_window, _change_type, _commit_version |>\n",
    "  SELECT *, sha2(concat(file_metadata.file_path, ingest_time, reporting_entity_name, reporting_entity_type, file_type, file_description, file_location), 256) as allowed_amount_file_index_id;"
   ]
  }
 ],
 "metadata": {
  "application/vnd.databricks.v1+notebook": {
   "computePreferences": null,
   "dashboards": [],
   "environmentMetadata": null,
   "inputWidgetPreferences": null,
   "language": "sql",
   "notebookMetadata": {
    "pythonIndentUnit": 2,
    "sqlQueryOptions": {
     "applyAutoLimit": false,
     "catalog": "mgiglia",
     "schema": "dev_matthew_giglia_price_transparency"
    }
   },
   "notebookName": "Index File Exploration.dbquery.ipynb",
   "widgets": {}
  },
  "language_info": {
   "name": "sql"
  }
 },
 "nbformat": 4,
 "nbformat_minor": 0
}
