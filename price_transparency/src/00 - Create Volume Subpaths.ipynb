{
 "cells": [
  {
   "cell_type": "code",
   "execution_count": 0,
   "metadata": {
    "application/vnd.databricks.v1+cell": {
     "cellMetadata": {
      "byteLimit": 2048000,
      "rowLimit": 10000
     },
     "inputWidgets": {},
     "nuid": "bd015a01-99d1-44dd-9898-b0a99e44b446",
     "showTitle": true,
     "tableResultSettingsMap": {},
     "title": "Widget Setup"
    }
   },
   "outputs": [],
   "source": [
    "# Widget Setup\n",
    "# Create widgets for catalog, schema, volume, and subdirectory selection\n",
    "# catalog_use: Name of the Unity Catalog catalog (default: 'main')\n",
    "dbutils.widgets.text(\"catalog_use\", \"main\")\n",
    "# schema_use: Name of the schema/database (default: 'default')\n",
    "dbutils.widgets.text(\"schema_use\", \"default\")\n",
    "# volume_use: Name of the volume (default: 'landing')\n",
    "dbutils.widgets.text(\"volume_use\", \"landing\")\n",
    "# subdirectory: Subdirectory to create inside the volume (default: 'in-network')\n",
    "dbutils.widgets.text(\"subdirectory\", \"in-network\")"
   ]
  },
  {
   "cell_type": "code",
   "execution_count": 0,
   "metadata": {
    "application/vnd.databricks.v1+cell": {
     "cellMetadata": {
      "byteLimit": 2048000,
      "rowLimit": 10000
     },
     "inputWidgets": {},
     "nuid": "544c8b2d-f27c-4eb9-96d3-6473be6bb767",
     "showTitle": true,
     "tableResultSettingsMap": {},
     "title": "Retrieve Widget Values"
    }
   },
   "outputs": [],
   "source": [
    "# Retrieve Widget Values\n",
    "# Retrieve widget values for catalog, schema, volume, and subdirectory\n",
    "catalog_use = dbutils.widgets.get(\"catalog_use\")\n",
    "schema_use = dbutils.widgets.get(\"schema_use\")\n",
    "volume_use = dbutils.widgets.get(\"volume_use\")\n",
    "subdirectory = dbutils.widgets.get(\"subdirectory\")"
   ]
  },
  {
   "cell_type": "code",
   "execution_count": 0,
   "metadata": {
    "application/vnd.databricks.v1+cell": {
     "cellMetadata": {
      "byteLimit": 2048000,
      "rowLimit": 10000
     },
     "inputWidgets": {},
     "nuid": "4228cd4f-eb8f-443b-834c-41f875d93ee1",
     "showTitle": true,
     "tableResultSettingsMap": {},
     "title": "Verify Widget Values"
    }
   },
   "outputs": [],
   "source": [
    "# Verify Widget Values\n",
    "# Print the selected widget values for verification, including the new subdirectory widget\n",
    "print(f\"\"\"\n",
    "  catalog_use: {catalog_use}\n",
    "  schema_use: {schema_use}\n",
    "  volume_use: {volume_use}\n",
    "  subdirectory: {subdirectory}\n",
    "\"\"\")"
   ]
  },
  {
   "cell_type": "code",
   "execution_count": 0,
   "metadata": {
    "application/vnd.databricks.v1+cell": {
     "cellMetadata": {
      "byteLimit": 2048000,
      "rowLimit": 10000
     },
     "inputWidgets": {},
     "nuid": "75c1e117-169b-4c87-9ea4-959a94390b4f",
     "showTitle": true,
     "tableResultSettingsMap": {},
     "title": "Create Directory in Workspace Volume"
    }
   },
   "outputs": [],
   "source": [
    "# Create Directory in Workspace Volume\n",
    "# Construct and create the directory in the workspace volume\n",
    "# Validate widget inputs\n",
    "if not all([catalog_use, schema_use, volume_use, subdirectory]):\n",
    "    raise ValueError(\"All widget values (catalog, schema, volume, subdirectory) must be provided and non-empty.\")\n",
    "\n",
    "# Construct the directory path\n",
    "# Example: /Volumes/main/default/landing/in-network\n",
    "directory_path = f\"/Volumes/{catalog_use}/{schema_use}/{volume_use}/{subdirectory}\"\n",
    "\n",
    "# Create the directory using dbutils.fs.mkdirs for Azure compatibility\n",
    "try:\n",
    "    dbutils.fs.mkdirs(directory_path)\n",
    "    print(f\"Successfully created directory: {directory_path}\")\n",
    "except Exception as e:\n",
    "    print(f\"Error creating directory {directory_path}: {e}\")\n",
    "    raise"
   ]
  }
 ],
 "metadata": {
  "application/vnd.databricks.v1+notebook": {
   "computePreferences": {
    "hardware": {
     "accelerator": null,
     "gpuPoolId": null,
     "memory": null
    }
   },
   "dashboards": [],
   "environmentMetadata": {
    "base_environment": "",
    "environment_version": "3"
   },
   "inputWidgetPreferences": null,
   "language": "python",
   "notebookMetadata": {
    "pythonIndentUnit": 2
   },
   "notebookName": "00 - Create Volume Subpaths",
   "widgets": {
    "catalog_use": {
     "currentValue": "mgiglia",
     "nuid": "df363d88-0925-4568-9b2d-d6e29ae7fcc1",
     "typedWidgetInfo": {
      "autoCreated": false,
      "defaultValue": "main",
      "label": null,
      "name": "catalog_use",
      "options": {
       "widgetDisplayType": "Text",
       "validationRegex": null
      },
      "parameterDataType": "String"
     },
     "widgetInfo": {
      "widgetType": "text",
      "defaultValue": "main",
      "label": null,
      "name": "catalog_use",
      "options": {
       "widgetType": "text",
       "autoCreated": null,
       "validationRegex": null
      }
     }
    },
    "schema_use": {
     "currentValue": "dev_matthew_giglia_price_transparency",
     "nuid": "b3ac3e38-e67f-48f1-a56a-6490348686e5",
     "typedWidgetInfo": {
      "autoCreated": false,
      "defaultValue": "default",
      "label": null,
      "name": "schema_use",
      "options": {
       "widgetDisplayType": "Text",
       "validationRegex": null
      },
      "parameterDataType": "String"
     },
     "widgetInfo": {
      "widgetType": "text",
      "defaultValue": "default",
      "label": null,
      "name": "schema_use",
      "options": {
       "widgetType": "text",
       "autoCreated": null,
       "validationRegex": null
      }
     }
    },
    "subdirectory": {
     "currentValue": "in-network",
     "nuid": "b0575931-b8c8-49d0-800d-c95f94af081f",
     "typedWidgetInfo": {
      "autoCreated": false,
      "defaultValue": "in-network",
      "label": null,
      "name": "subdirectory",
      "options": {
       "widgetDisplayType": "Text",
       "validationRegex": null
      },
      "parameterDataType": "String"
     },
     "widgetInfo": {
      "widgetType": "text",
      "defaultValue": "in-network",
      "label": null,
      "name": "subdirectory",
      "options": {
       "widgetType": "text",
       "autoCreated": null,
       "validationRegex": null
      }
     }
    },
    "volume_use": {
     "currentValue": "landing",
     "nuid": "8e4ff697-f404-4f7d-860d-a1e67fb8f75a",
     "typedWidgetInfo": {
      "autoCreated": false,
      "defaultValue": "landing",
      "label": null,
      "name": "volume_use",
      "options": {
       "widgetDisplayType": "Text",
       "validationRegex": null
      },
      "parameterDataType": "String"
     },
     "widgetInfo": {
      "widgetType": "text",
      "defaultValue": "landing",
      "label": null,
      "name": "volume_use",
      "options": {
       "widgetType": "text",
       "autoCreated": null,
       "validationRegex": null
      }
     }
    }
   }
  },
  "language_info": {
   "name": "python"
  }
 },
 "nbformat": 4,
 "nbformat_minor": 0
}
