{
 "cells": [
  {
   "cell_type": "code",
   "execution_count": 0,
   "metadata": {
    "application/vnd.databricks.v1+cell": {
     "cellMetadata": {
      "byteLimit": 2048000,
      "rowLimit": 10000
     },
     "inputWidgets": {},
     "nuid": "4b37b37b-7088-42b6-82ec-fc48cf9f6677",
     "showTitle": false,
     "tableResultSettingsMap": {},
     "title": ""
    }
   },
   "outputs": [],
   "source": [
    "use mgiglia.dev_matthew_giglia_price_transparency;"
   ]
  },
  {
   "cell_type": "code",
   "execution_count": 0,
   "metadata": {
    "application/vnd.databricks.v1+cell": {
     "cellMetadata": {
      "byteLimit": 2048000,
      "rowLimit": 10000
     },
     "inputWidgets": {},
     "nuid": "035f6e62-1414-44ff-b91f-a0658fe74284",
     "showTitle": false,
     "tableResultSettingsMap": {},
     "title": ""
    }
   },
   "outputs": [],
   "source": [
    "select * from allowed_amount_json_bronze;"
   ]
  },
  {
   "cell_type": "code",
   "execution_count": 0,
   "metadata": {
    "application/vnd.databricks.v1+cell": {
     "cellMetadata": {
      "byteLimit": 2048000,
      "rowLimit": 10000
     },
     "inputWidgets": {},
     "nuid": "d35e4cc7-a751-420e-b516-5bdb42060f6e",
     "showTitle": false,
     "tableResultSettingsMap": {},
     "title": ""
    }
   },
   "outputs": [],
   "source": [
    "DROP TABLE IF EXISTS mgiglia.pt_allowed_amounts.file_dim;"
   ]
  },
  {
   "cell_type": "code",
   "execution_count": 0,
   "metadata": {
    "application/vnd.databricks.v1+cell": {
     "cellMetadata": {
      "byteLimit": 2048000,
      "rowLimit": 10000
     },
     "inputWidgets": {},
     "nuid": "e3bec22d-d3be-4c1d-be6c-cd98e6812962",
     "showTitle": false,
     "tableResultSettingsMap": {},
     "title": ""
    }
   },
   "outputs": [],
   "source": [
    "CREATE OR REFRESH STREAMING TABLE mgiglia.pt_allowed_amounts.file_dim (\n",
    "  file_dim_sk STRING NOT NULL\n",
    "  ,index_file_source_id STRING\n",
    "  ,file_path STRING\n",
    "  ,file_name STRING\n",
    "  ,file_size BIGINT\n",
    "  ,file_block_start BIGINT\n",
    "  ,file_block_length BIGINT\n",
    "  ,file_modification_time TIMESTAMP\n",
    "  ,ingest_time TIMESTAMP\n",
    "  ,rcrd_timestamp TIMESTAMP\n",
    "  ,last_updated_on TIMESTAMP\n",
    "  ,version STRING\n",
    "  ,CONSTRAINT dim_files_pk PRIMARY KEY (file_dim_sk)\n",
    ")\n",
    "COMMENT \"File dimension containing metadata about source files\"\n",
    "AS SELECT DISTINCT\n",
    "  index_file_source_id as file_dim_sk\n",
    "  ,index_file_source_id\n",
    "  ,file_metadata.file_path AS file_path\n",
    "  ,file_metadata.file_name AS file_name\n",
    "  ,file_metadata.file_size AS file_size\n",
    "  ,file_metadata.file_block_start AS file_block_start\n",
    "  ,file_metadata.file_block_length AS file_block_length\n",
    "  ,file_metadata.file_modification_time AS file_modification_time\n",
    "  ,ingest_time\n",
    "  ,rcrd_timestamp\n",
    "  ,last_updated_on::timestamp\n",
    "  ,version\n",
    "FROM STREAM(allowed_amount_json_bronze);"
   ]
  },
  {
   "cell_type": "code",
   "execution_count": 0,
   "metadata": {
    "application/vnd.databricks.v1+cell": {
     "cellMetadata": {
      "byteLimit": 2048000,
      "rowLimit": 10000
     },
     "inputWidgets": {},
     "nuid": "2071bbd4-b547-41b4-85a3-f0fdab5aacec",
     "showTitle": false,
     "tableResultSettingsMap": {
      "0": {
       "dataGridStateBlob": "{\"version\":1,\"tableState\":{\"columnPinning\":{\"left\":[\"#row_number#\"],\"right\":[]},\"columnSizing\":{},\"columnVisibility\":{}},\"settings\":{\"columns\":{}},\"syncTimestamp\":1757310111440}",
       "filterBlob": null,
       "queryPlanFiltersBlob": null,
       "tableResultIndex": 0
      }
     },
     "title": ""
    }
   },
   "outputs": [],
   "source": [
    "select * from mgiglia.pt_allowed_amounts.file_dim limit 100;"
   ]
  },
  {
   "cell_type": "code",
   "execution_count": 0,
   "metadata": {
    "application/vnd.databricks.v1+cell": {
     "cellMetadata": {
      "byteLimit": 2048000,
      "rowLimit": 10000
     },
     "inputWidgets": {},
     "nuid": "731ad8fb-c09e-4e21-9a7a-aadff88bc63a",
     "showTitle": false,
     "tableResultSettingsMap": {},
     "title": ""
    }
   },
   "outputs": [],
   "source": [
    "DROP TABLE IF EXISTS mgiglia.pt_allowed_amounts.plan_dim;"
   ]
  },
  {
   "cell_type": "code",
   "execution_count": 0,
   "metadata": {
    "application/vnd.databricks.v1+cell": {
     "cellMetadata": {
      "byteLimit": 2048000,
      "rowLimit": 10000
     },
     "inputWidgets": {},
     "nuid": "093f657d-51ce-451f-8386-b295377c11c7",
     "showTitle": false,
     "tableResultSettingsMap": {},
     "title": ""
    }
   },
   "outputs": [],
   "source": [
    "CREATE OR REFRESH STREAMING TABLE mgiglia.pt_allowed_amounts.plan_dim (\n",
    "  plan_dim_sk STRING NOT NULL,\n",
    "  plan_name STRING,\n",
    "  plan_id STRING,\n",
    "  plan_id_type STRING,\n",
    "  plan_market_type STRING,\n",
    "  reporting_entity_name STRING,\n",
    "  reporting_entity_type STRING,\n",
    "  CONSTRAINT dim_plans_pk PRIMARY KEY (plan_dim_sk)\n",
    ")\n",
    "COMMENT \"Insurance plans dimension\"\n",
    "AS SELECT DISTINCT\n",
    "  SHA2(CONCAT(COALESCE(plan_name, ''), '|', COALESCE(plan_id, ''), '|', COALESCE(plan_id_type, ''), '|', COALESCE(plan_market_type, ''), '|', COALESCE(reporting_entity_name, ''), '|', COALESCE(reporting_entity_type, ''), '|', COALESCE(version, '')), 256) as plan_dim_sk\n",
    "  ,plan_name\n",
    "  ,plan_id\n",
    "  ,plan_id_type\n",
    "  ,plan_market_type\n",
    "  ,reporting_entity_name\n",
    "  ,reporting_entity_type\n",
    "FROM STREAM(allowed_amount_json_bronze);"
   ]
  },
  {
   "cell_type": "code",
   "execution_count": 0,
   "metadata": {
    "application/vnd.databricks.v1+cell": {
     "cellMetadata": {
      "byteLimit": 2048000,
      "rowLimit": 10000
     },
     "inputWidgets": {},
     "nuid": "c6bbe524-1783-41ae-84e6-9056bc18620d",
     "showTitle": false,
     "tableResultSettingsMap": {
      "0": {
       "dataGridStateBlob": "{\"version\":1,\"tableState\":{\"columnPinning\":{\"left\":[\"#row_number#\"],\"right\":[]},\"columnSizing\":{},\"columnVisibility\":{}},\"settings\":{\"columns\":{}},\"syncTimestamp\":1757310200459}",
       "filterBlob": null,
       "queryPlanFiltersBlob": null,
       "tableResultIndex": 0
      }
     },
     "title": ""
    }
   },
   "outputs": [],
   "source": [
    "select * from mgiglia.pt_allowed_amounts.plan_dim limit 100;"
   ]
  },
  {
   "cell_type": "code",
   "execution_count": 0,
   "metadata": {
    "application/vnd.databricks.v1+cell": {
     "cellMetadata": {
      "byteLimit": 2048000,
      "rowLimit": 10000
     },
     "inputWidgets": {},
     "nuid": "80499323-80e0-455d-9fc0-06cdab66a99f",
     "showTitle": false,
     "tableResultSettingsMap": {
      "0": {
       "dataGridStateBlob": "{\"version\":1,\"tableState\":{\"columnPinning\":{\"left\":[\"#row_number#\"],\"right\":[]},\"columnSizing\":{},\"columnVisibility\":{}},\"settings\":{\"columns\":{}},\"syncTimestamp\":1757309048077}",
       "filterBlob": null,
       "queryPlanFiltersBlob": null,
       "tableResultIndex": 0
      }
     },
     "title": ""
    }
   },
   "outputs": [],
   "source": [
    "SELECT DISTINCT\n",
    "  t.*\n",
    "  ,oon.col.\n",
    "FROM \n",
    "  allowed_amount_json_bronze as t\n",
    "  ,LATERAL EXPLODE(out_of_network) as oon"
   ]
  },
  {
   "cell_type": "code",
   "execution_count": 0,
   "metadata": {
    "application/vnd.databricks.v1+cell": {
     "cellMetadata": {
      "byteLimit": 2048000,
      "rowLimit": 10000
     },
     "inputWidgets": {},
     "nuid": "b7b75bbd-4f32-4264-b1e7-aec35f7447cf",
     "showTitle": false,
     "tableResultSettingsMap": {},
     "title": ""
    }
   },
   "outputs": [],
   "source": [
    "drop table if exists mgiglia.pt_allowed_amounts.billing_code_dim;"
   ]
  },
  {
   "cell_type": "code",
   "execution_count": 0,
   "metadata": {
    "application/vnd.databricks.v1+cell": {
     "cellMetadata": {
      "byteLimit": 2048000,
      "rowLimit": 10000
     },
     "inputWidgets": {},
     "nuid": "8a7c51dd-4fc9-4daa-b4e5-5c431b8cc4b2",
     "showTitle": false,
     "tableResultSettingsMap": {},
     "title": ""
    }
   },
   "outputs": [],
   "source": [
    "-- Billing Codes Dimension\n",
    "CREATE OR REFRESH STREAMING TABLE mgiglia.pt_allowed_amounts.billing_code_dim (\n",
    "  billing_code_dim_sk STRING NOT NULL,\n",
    "  billing_code STRING,\n",
    "  billing_code_type STRING,\n",
    "  billing_code_type_version STRING,\n",
    "  name STRING,\n",
    "  description STRING,\n",
    "  CONSTRAINT dim_billing_codes_pk PRIMARY KEY (billing_code_dim_sk)\n",
    ")\n",
    "COMMENT \"Medical billing codes dimension\"\n",
    "AS SELECT DISTINCT\n",
    "  SHA2(CONCAT(\n",
    "    COALESCE(oon.col.billing_code, ''), '|',\n",
    "    COALESCE(oon.col.billing_code_type, ''), '|',\n",
    "    COALESCE(oon.col.billing_code_type_version, ''), '|',\n",
    "    COALESCE(oon.col.name, ''), '|',\n",
    "    COALESCE(oon.col.description, '')\n",
    "  ), 256) as billing_code_dim_sk,\n",
    "  oon.col.billing_code as billing_code,\n",
    "  oon.col.billing_code_type as billing_code_type,\n",
    "  oon.col.billing_code_type_version as billing_code_type_version,\n",
    "  oon.col.name as name,\n",
    "  oon.col.description as description\n",
    "FROM STREAM(allowed_amount_json_bronze)\n",
    ",LATERAL EXPLODE(out_of_network) as oon;"
   ]
  },
  {
   "cell_type": "code",
   "execution_count": 0,
   "metadata": {
    "application/vnd.databricks.v1+cell": {
     "cellMetadata": {
      "byteLimit": 2048000,
      "rowLimit": 10000
     },
     "inputWidgets": {},
     "nuid": "75421e62-2048-48b1-b859-79e25d4e7d0f",
     "showTitle": false,
     "tableResultSettingsMap": {
      "0": {
       "dataGridStateBlob": "{\"version\":1,\"tableState\":{\"columnPinning\":{\"left\":[\"#row_number#\"],\"right\":[]},\"columnSizing\":{},\"columnVisibility\":{}},\"settings\":{\"columns\":{}},\"syncTimestamp\":1757310337893}",
       "filterBlob": null,
       "queryPlanFiltersBlob": null,
       "tableResultIndex": 0
      }
     },
     "title": ""
    }
   },
   "outputs": [],
   "source": [
    "select * from mgiglia.pt_allowed_amounts.billing_code_dim limit 100"
   ]
  },
  {
   "cell_type": "code",
   "execution_count": 0,
   "metadata": {
    "application/vnd.databricks.v1+cell": {
     "cellMetadata": {
      "byteLimit": 2048000,
      "rowLimit": 10000
     },
     "inputWidgets": {},
     "nuid": "f31c8adf-10d2-446a-84be-042c2861629e",
     "showTitle": false,
     "tableResultSettingsMap": {},
     "title": ""
    }
   },
   "outputs": [],
   "source": [
    "drop table if exists mgiglia.pt_allowed_amounts.tin_dim;"
   ]
  },
  {
   "cell_type": "code",
   "execution_count": 0,
   "metadata": {
    "application/vnd.databricks.v1+cell": {
     "cellMetadata": {
      "byteLimit": 2048000,
      "rowLimit": 10000
     },
     "inputWidgets": {},
     "nuid": "80e6c989-9a17-4e80-ba58-b0aa16a81222",
     "showTitle": false,
     "tableResultSettingsMap": {},
     "title": ""
    }
   },
   "outputs": [],
   "source": [
    "CREATE OR REFRESH STREAMING TABLE mgiglia.pt_allowed_amounts.tin_dim (\n",
    "  tin_dim_sk STRING NOT NULL,\n",
    "  tin_type STRING,\n",
    "  tin_value STRING,\n",
    "  CONSTRAINT dim_tins_pk PRIMARY KEY (tin_dim_sk)\n",
    ")\n",
    "COMMENT \"Tax Identification Numbers dimension\"\n",
    "AS SELECT DISTINCT\n",
    "  SHA2(CONCAT(COALESCE(tin_info.col.type, ''), '|', COALESCE(tin_info.col.value, '')), 256) as tin_dim_sk,\n",
    "  tin_info.col.type as tin_type,\n",
    "  tin_info.col.value as tin_value\n",
    "FROM STREAM(allowed_amount_json_bronze)\n",
    ",LATERAL EXPLODE(out_of_network) as oon\n",
    ",LATERAL EXPLODE(oon.col.allowed_amounts) as allowed_amt\n",
    ",LATERAL EXPLODE(array(allowed_amt.col.tin)) as tin_info;"
   ]
  },
  {
   "cell_type": "code",
   "execution_count": 0,
   "metadata": {
    "application/vnd.databricks.v1+cell": {
     "cellMetadata": {
      "byteLimit": 2048000,
      "rowLimit": 10000
     },
     "inputWidgets": {},
     "nuid": "255ac539-567c-49f4-bc7f-c4eb053f3a6e",
     "showTitle": false,
     "tableResultSettingsMap": {},
     "title": ""
    }
   },
   "outputs": [],
   "source": [
    "select * from mgiglia.pt_allowed_amounts.tin_dim limit 100;"
   ]
  },
  {
   "cell_type": "code",
   "execution_count": 0,
   "metadata": {
    "application/vnd.databricks.v1+cell": {
     "cellMetadata": {
      "byteLimit": 2048000,
      "rowLimit": 10000
     },
     "inputWidgets": {},
     "nuid": "8a7b4549-0f40-4393-a6f1-5488a9b6a2b1",
     "showTitle": false,
     "tableResultSettingsMap": {},
     "title": ""
    }
   },
   "outputs": [],
   "source": [
    "drop table if exists mgiglia.pt_allowed_amounts.provider_dim;"
   ]
  },
  {
   "cell_type": "code",
   "execution_count": 0,
   "metadata": {
    "application/vnd.databricks.v1+cell": {
     "cellMetadata": {
      "byteLimit": 2048000,
      "rowLimit": 10000
     },
     "inputWidgets": {},
     "nuid": "09382d8f-c532-467b-812e-17304967a5c8",
     "showTitle": false,
     "tableResultSettingsMap": {},
     "title": ""
    }
   },
   "outputs": [],
   "source": [
    "-- Providers Dimension\n",
    "CREATE OR REFRESH STREAMING TABLE mgiglia.pt_allowed_amounts.provider_dim (\n",
    "  provider_dim_sk STRING NOT NULL,\n",
    "  npi STRING,\n",
    "  CONSTRAINT dim_providers_pk PRIMARY KEY (provider_dim_sk)\n",
    ")\n",
    "COMMENT \"Healthcare providers dimension\"\n",
    "AS SELECT DISTINCT\n",
    "  SHA2(CAST(FORMAT_NUMBER(CAST(npi_value.col AS DECIMAL(38,0)), '0') AS STRING), 256) as provider_dim_sk,\n",
    "  CAST(FORMAT_NUMBER(CAST(npi_value.col AS DECIMAL(38,0)), '0') AS STRING) as npi\n",
    "FROM STREAM(allowed_amount_json_bronze)\n",
    ",LATERAL EXPLODE(out_of_network) as oon\n",
    ",LATERAL EXPLODE(oon.col.allowed_amounts) as allowed_amt\n",
    ",LATERAL EXPLODE(allowed_amt.col.payments) as payment\n",
    ",LATERAL EXPLODE(payment.col.providers) as provider\n",
    ",LATERAL EXPLODE(provider.col.npi) as npi_value;"
   ]
  },
  {
   "cell_type": "code",
   "execution_count": 0,
   "metadata": {
    "application/vnd.databricks.v1+cell": {
     "cellMetadata": {
      "byteLimit": 2048000,
      "rowLimit": 10000
     },
     "inputWidgets": {},
     "nuid": "a20e190f-bd51-4034-8b1f-b40a8ebf0abc",
     "showTitle": false,
     "tableResultSettingsMap": {},
     "title": ""
    }
   },
   "outputs": [],
   "source": [
    "select * from mgiglia.pt_allowed_amounts.provider_dim limit 100;"
   ]
  },
  {
   "cell_type": "code",
   "execution_count": 0,
   "metadata": {
    "application/vnd.databricks.v1+cell": {
     "cellMetadata": {},
     "inputWidgets": {},
     "nuid": "4a38552a-b151-4994-abef-8ac7ec87965d",
     "showTitle": false,
     "tableResultSettingsMap": {},
     "title": ""
    }
   },
   "outputs": [],
   "source": [
    "drop table if exists mgiglia.pt_allowed_amounts.service_code_dim;"
   ]
  },
  {
   "cell_type": "code",
   "execution_count": 0,
   "metadata": {
    "application/vnd.databricks.v1+cell": {
     "cellMetadata": {
      "byteLimit": 2048000,
      "rowLimit": 10000
     },
     "inputWidgets": {},
     "nuid": "ef99f6c9-3f00-4ace-89cd-a64b2d5516c5",
     "showTitle": false,
     "tableResultSettingsMap": {},
     "title": ""
    }
   },
   "outputs": [],
   "source": [
    "-- BRIDGE TABLES\n",
    "\n",
    "-- Service Codes Bridge Table\n",
    "CREATE OR REFRESH STREAMING TABLE mgiglia.pt_allowed_amounts.service_code_dim (\n",
    "  service_code_dim_sk STRING NOT NULL,\n",
    "  billing_code_dim_sk STRING NOT NULL,\n",
    "  service_code STRING,\n",
    "  CONSTRAINT dim_service_codes_pk PRIMARY KEY (service_code_dim_sk),\n",
    "  CONSTRAINT dim_service_codes_billing_code_fk FOREIGN KEY (billing_code_dim_sk) REFERENCES mgiglia.pt_allowed_amounts.billing_code_dim(billing_code_dim_sk)\n",
    ")\n",
    "COMMENT \"Bridge table linking billing codes to service codes\"\n",
    "AS SELECT DISTINCT\n",
    "  SHA2(CONCAT(billing_code_dim_sk, '|', service_code_value.col), 256) as service_code_dim_sk,\n",
    "  billing_code_dim_sk,\n",
    "  service_code_value.col as service_code\n",
    "FROM (\n",
    "  SELECT \n",
    "    SHA2(CONCAT(\n",
    "    COALESCE(oon.col.billing_code, ''), '|',\n",
    "    COALESCE(oon.col.billing_code_type, ''), '|',\n",
    "    COALESCE(oon.col.billing_code_type_version, ''), '|',\n",
    "    COALESCE(oon.col.name, ''), '|',\n",
    "    COALESCE(oon.col.description, '')\n",
    "  ), 256) as billing_code_dim_sk,\n",
    "    service_code_element.col as service_code_value\n",
    "  FROM STREAM(allowed_amount_json_bronze)\n",
    "  ,LATERAL EXPLODE(out_of_network) as oon\n",
    "  ,LATERAL EXPLODE(array(oon.col)) as oon_col\n",
    "  ,LATERAL EXPLODE(oon_col) as service_code_value\n",
    "  WHERE service_code_value.col IS NOT NULL\n",
    ");"
   ]
  },
  {
   "cell_type": "code",
   "execution_count": 0,
   "metadata": {
    "application/vnd.databricks.v1+cell": {
     "cellMetadata": {
      "byteLimit": 2048000,
      "rowLimit": 10000
     },
     "inputWidgets": {},
     "nuid": "fa89359f-56fa-42e4-8825-ca732595daab",
     "showTitle": false,
     "tableResultSettingsMap": {},
     "title": ""
    }
   },
   "outputs": [],
   "source": [
    "select * from mgiglia.pt_allowed_amounts.service_code_dim;"
   ]
  },
  {
   "cell_type": "code",
   "execution_count": 0,
   "metadata": {
    "application/vnd.databricks.v1+cell": {
     "cellMetadata": {},
     "inputWidgets": {},
     "nuid": "65e03784-a009-47b4-a011-7843f225e856",
     "showTitle": false,
     "tableResultSettingsMap": {},
     "title": ""
    }
   },
   "outputs": [],
   "source": [
    "-- healthcare_pricing_pipeline.sql\n",
    "\n",
    "-- DIMENSION TABLES\n",
    "\n",
    "-- Files Dimension\n",
    "\n",
    "\n",
    "-- Plans Dimension  \n",
    "CREATE OR REFRESH STREAMING TABLE dim_plans (\n",
    "  plan_id STRING NOT NULL,\n",
    "  plan_name STRING,\n",
    "  plan_id_type STRING,\n",
    "  plan_market_type STRING,\n",
    "  reporting_entity_name STRING,\n",
    "  reporting_entity_type STRING,\n",
    "  version STRING,\n",
    "  CONSTRAINT dim_plans_pk PRIMARY KEY (plan_id)\n",
    ")\n",
    "COMMENT \"Insurance plans dimension\"\n",
    "AS SELECT DISTINCT\n",
    "  SHA2(CONCAT(COALESCE(plan_name, ''), '|', COALESCE(reporting_entity_name, '')), 256) as plan_id,\n",
    "  plan_name,\n",
    "  plan_id_type,\n",
    "  plan_market_type,\n",
    "  reporting_entity_name,\n",
    "  reporting_entity_type,\n",
    "  version\n",
    "FROM STREAM(source_healthcare_data);\n",
    "\n",
    "-- Billing Codes Dimension\n",
    "CREATE OR REFRESH STREAMING TABLE dim_billing_codes (\n",
    "  billing_code_id STRING NOT NULL,\n",
    "  billing_code STRING,\n",
    "  billing_code_type STRING,\n",
    "  billing_code_type_version STRING,\n",
    "  name STRING,\n",
    "  description STRING,\n",
    "  billing_class STRING,\n",
    "  CONSTRAINT dim_billing_codes_pk PRIMARY KEY (billing_code_id)\n",
    ")\n",
    "COMMENT \"Medical billing codes dimension\"\n",
    "AS SELECT DISTINCT\n",
    "  SHA2(CONCAT(COALESCE(oon_element.billing_code, ''), '|', COALESCE(oon_element.billing_code_type, '')), 256) as billing_code_id,\n",
    "  oon_element.billing_code,\n",
    "  oon_element.billing_code_type,\n",
    "  oon_element.billing_code_type_version,\n",
    "  oon_element.name,\n",
    "  oon_element.description,\n",
    "  oon_element.billing_class\n",
    "FROM STREAM(source_healthcare_data)\n",
    "LATERAL VIEW EXPLODE(out_of_network) as oon\n",
    "LATERAL VIEW EXPLODE(array(oon.element)) as oon_element;\n",
    "\n",
    "-- TINs Dimension\n",
    "CREATE OR REFRESH STREAMING TABLE dim_tins (\n",
    "  tin_id STRING NOT NULL,\n",
    "  tin_type STRING,\n",
    "  tin_value STRING,\n",
    "  CONSTRAINT dim_tins_pk PRIMARY KEY (tin_id)\n",
    ")\n",
    "COMMENT \"Tax Identification Numbers dimension\"\n",
    "AS SELECT DISTINCT\n",
    "  SHA2(CONCAT(COALESCE(tin_info.type, ''), '|', COALESCE(tin_info.value, '')), 256) as tin_id,\n",
    "  tin_info.type as tin_type,\n",
    "  tin_info.value as tin_value\n",
    "FROM STREAM(source_healthcare_data)\n",
    "LATERAL VIEW EXPLODE(out_of_network) as oon\n",
    "LATERAL VIEW EXPLODE(oon.element.allowed_amounts) as allowed_amt\n",
    "LATERAL VIEW EXPLODE(array(allowed_amt.element.tin)) as tin_info;\n",
    "\n",
    "-- Providers Dimension\n",
    "CREATE OR REFRESH STREAMING TABLE dim_providers (\n",
    "  provider_id STRING NOT NULL,\n",
    "  npi STRING,\n",
    "  provider_name STRING,\n",
    "  CONSTRAINT dim_providers_pk PRIMARY KEY (provider_id)\n",
    ")\n",
    "COMMENT \"Healthcare providers dimension\"\n",
    "AS SELECT DISTINCT\n",
    "  SHA2(CAST(npi_value AS STRING), 256) as provider_id,\n",
    "  CAST(npi_value AS STRING) as npi,\n",
    "  NULL as provider_name -- Not available in source data\n",
    "FROM STREAM(source_healthcare_data)\n",
    "LATERAL VIEW EXPLODE(out_of_network) as oon\n",
    "LATERAL VIEW EXPLODE(oon.element.allowed_amounts) as allowed_amt\n",
    "LATERAL VIEW EXPLODE(allowed_amt.element.payments) as payment\n",
    "LATERAL VIEW EXPLODE(payment.element.providers) as provider\n",
    "LATERAL VIEW EXPLODE(provider.element.npi) as npi_value;\n",
    "\n",
    "-- BRIDGE TABLES\n",
    "\n",
    "-- Service Codes Bridge Table\n",
    "CREATE OR REFRESH STREAMING TABLE dim_service_codes (\n",
    "  service_code_id STRING NOT NULL,\n",
    "  billing_code_id STRING NOT NULL,\n",
    "  service_code STRING,\n",
    "  CONSTRAINT dim_service_codes_pk PRIMARY KEY (service_code_id)\n",
    ")\n",
    "COMMENT \"Bridge table linking billing codes to service codes\"\n",
    "AS SELECT DISTINCT\n",
    "  SHA2(CONCAT(billing_code_id, '|', service_code_value), 256) as service_code_id,\n",
    "  billing_code_id,\n",
    "  service_code_value as service_code\n",
    "FROM (\n",
    "  SELECT \n",
    "    SHA2(CONCAT(COALESCE(oon_element.billing_code, ''), '|', COALESCE(oon_element.billing_code_type, '')), 256) as billing_code_id,\n",
    "    service_code_element as service_code_value\n",
    "  FROM STREAM(source_healthcare_data)\n",
    "  LATERAL VIEW EXPLODE(out_of_network) as oon\n",
    "  LATERAL VIEW EXPLODE(array(oon.element)) as oon_element\n",
    "  LATERAL VIEW EXPLODE(oon_element.service_code) as service_code_element\n",
    "  WHERE service_code_element IS NOT NULL\n",
    ");\n",
    "\n",
    "-- FACT TABLE\n",
    "CREATE OR REFRESH STREAMING TABLE fact_allowed_amounts (\n",
    "  allowed_amount_id STRING NOT NULL,\n",
    "  file_id STRING NOT NULL,\n",
    "  plan_id STRING NOT NULL,\n",
    "  provider_id STRING,\n",
    "  billing_code_id STRING NOT NULL,\n",
    "  tin_id STRING,\n",
    "  allowed_amount DOUBLE,\n",
    "  billed_charge DOUBLE,\n",
    "  rcrd_timestamp TIMESTAMP,\n",
    "  ingest_time TIMESTAMP,\n",
    "  CONSTRAINT fact_allowed_amounts_pk PRIMARY KEY (allowed_amount_id)\n",
    ")\n",
    "COMMENT \"Fact table containing allowed amounts for healthcare services\"\n",
    "AS SELECT \n",
    "  SHA2(CONCAT(\n",
    "    file_id, '|', plan_id, '|', \n",
    "    COALESCE(provider_id, 'NULL'), '|', \n",
    "    billing_code_id, '|', \n",
    "    COALESCE(tin_id, 'NULL')\n",
    "  ), 256) as allowed_amount_id,\n",
    "  file_id,\n",
    "  plan_id,\n",
    "  provider_id,\n",
    "  billing_code_id,\n",
    "  tin_id,\n",
    "  payment_element.allowed_amount,\n",
    "  provider_element.billed_charge,\n",
    "  rcrd_timestamp,\n",
    "  ingest_time\n",
    "FROM (\n",
    "  SELECT \n",
    "    SHA2(index_file_source_id, 256) as file_id,\n",
    "    SHA2(CONCAT(COALESCE(plan_name, ''), '|', COALESCE(reporting_entity_name, '')), 256) as plan_id,\n",
    "    SHA2(CONCAT(COALESCE(oon_element.billing_code, ''), '|', COALESCE(oon_element.billing_code_type, '')), 256) as billing_code_id,\n",
    "    SHA2(CONCAT(COALESCE(tin_info.type, ''), '|', COALESCE(tin_info.value, '')), 256) as tin_id,\n",
    "    SHA2(CAST(npi_value AS STRING), 256) as provider_id,\n",
    "    payment_element,\n",
    "    provider_element,\n",
    "    rcrd_timestamp,\n",
    "    ingest_time\n",
    "  FROM STREAM(source_healthcare_data)\n",
    "  LATERAL VIEW EXPLODE(out_of_network) as oon\n",
    "  LATERAL VIEW EXPLODE(array(oon.element)) as oon_element\n",
    "  LATERAL VIEW EXPLODE(oon_element.allowed_amounts) as allowed_amt\n",
    "  LATERAL VIEW EXPLODE(array(allowed_amt.element.tin)) as tin_info\n",
    "  LATERAL VIEW EXPLODE(allowed_amt.element.payments) as payment\n",
    "  LATERAL VIEW EXPLODE(array(payment.element)) as payment_element\n",
    "  LATERAL VIEW EXPLODE(payment_element.providers) as provider\n",
    "  LATERAL VIEW EXPLODE(array(provider.element)) as provider_element\n",
    "  LATERAL VIEW EXPLODE(provider_element.npi) as npi_value\n",
    ") exploded_data;\n",
    "\n",
    "-- SOURCE TABLE DEFINITION\n",
    "CREATE OR REFRESH STREAMING TABLE source_healthcare_data\n",
    "COMMENT \"Raw healthcare pricing transparency data\"\n",
    "AS SELECT * FROM STREAM READ_FILES(\n",
    "  '${source_table_path}',\n",
    "  format => 'delta'\n",
    ");\n"
   ]
  }
 ],
 "metadata": {
  "application/vnd.databricks.v1+notebook": {
   "computePreferences": null,
   "dashboards": [],
   "environmentMetadata": {
    "base_environment": "",
    "environment_version": "3"
   },
   "inputWidgetPreferences": null,
   "language": "sql",
   "notebookMetadata": {
    "pythonIndentUnit": 2
   },
   "notebookName": "Allowed Amount Star Schema",
   "widgets": {}
  },
  "language_info": {
   "name": "sql"
  }
 },
 "nbformat": 4,
 "nbformat_minor": 0
}
