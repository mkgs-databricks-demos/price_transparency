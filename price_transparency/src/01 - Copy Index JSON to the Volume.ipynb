{
 "cells": [
  {
   "cell_type": "code",
   "execution_count": 0,
   "metadata": {
    "application/vnd.databricks.v1+cell": {
     "cellMetadata": {
      "byteLimit": 2048000,
      "rowLimit": 10000
     },
     "inputWidgets": {},
     "nuid": "77a19503-2a1e-4470-9565-88fd478f4149",
     "showTitle": false,
     "tableResultSettingsMap": {},
     "title": ""
    }
   },
   "outputs": [],
   "source": [
    "%python\n",
    "\"Restoring serverless notebook session state...\""
   ]
  },
  {
   "cell_type": "code",
   "execution_count": 0,
   "metadata": {
    "application/vnd.databricks.v1+cell": {
     "cellMetadata": {
      "byteLimit": 2048000,
      "rowLimit": 10000
     },
     "inputWidgets": {},
     "nuid": "1a061354-990a-4613-b570-5f74238d0485",
     "showTitle": false,
     "tableResultSettingsMap": {},
     "title": ""
    }
   },
   "outputs": [],
   "source": [
    "import os\n",
    "import sys\n",
    "import subprocess"
   ]
  },
  {
   "cell_type": "code",
   "execution_count": 0,
   "metadata": {
    "application/vnd.databricks.v1+cell": {
     "cellMetadata": {
      "byteLimit": 2048000,
      "rowLimit": 10000
     },
     "inputWidgets": {},
     "nuid": "18234c94-7d2a-477e-98ad-3c24a6f38023",
     "showTitle": false,
     "tableResultSettingsMap": {},
     "title": ""
    }
   },
   "outputs": [],
   "source": [
    "# Widget Setup\n",
    "# Create widgets for catalog, schema, volume, and subdirectory selection\n",
    "# catalog_use: Name of the Unity Catalog catalog (default: 'main')\n",
    "dbutils.widgets.text(\"catalog_use\", \"main\")\n",
    "# schema_use: Name of the schema/database (default: 'default')\n",
    "dbutils.widgets.text(\"schema_use\", \"default\")\n",
    "# volume_use: Name of the volume (default: 'landing')\n",
    "dbutils.widgets.text(\"volume_use\", \"landing\")\n",
    "# subdirectory: Subdirectory to create inside the volume (default: 'in-network')\n",
    "dbutils.widgets.text(\"subdirectory\", \"index\")\n",
    "\n",
    "dbutils.widgets.text(\"index_file_name\", \"2025-07-23_index.json\")"
   ]
  },
  {
   "cell_type": "code",
   "execution_count": 0,
   "metadata": {
    "application/vnd.databricks.v1+cell": {
     "cellMetadata": {
      "byteLimit": 2048000,
      "rowLimit": 10000
     },
     "inputWidgets": {},
     "nuid": "96a8c62d-b87c-496c-a5ed-d09bc0bff68d",
     "showTitle": false,
     "tableResultSettingsMap": {},
     "title": ""
    }
   },
   "outputs": [],
   "source": [
    "# Retrieve Widget Values\n",
    "# Retrieve widget values for catalog, schema, volume, and subdirectory\n",
    "catalog_use = dbutils.widgets.get(\"catalog_use\").strip()\n",
    "schema_use = dbutils.widgets.get(\"schema_use\").strip()\n",
    "volume_use = dbutils.widgets.get(\"volume_use\").strip()\n",
    "subdirectory = dbutils.widgets.get(\"subdirectory\").strip()\n",
    "index_file_name = dbutils.widgets.get(\"index_file_name\").strip()"
   ]
  },
  {
   "cell_type": "code",
   "execution_count": 0,
   "metadata": {
    "application/vnd.databricks.v1+cell": {
     "cellMetadata": {
      "byteLimit": 2048000,
      "rowLimit": 10000
     },
     "inputWidgets": {},
     "nuid": "80cac65a-459c-4d40-93ea-fca212b9cabb",
     "showTitle": false,
     "tableResultSettingsMap": {},
     "title": ""
    }
   },
   "outputs": [],
   "source": [
    "print(sys.path)\n",
    "sys_path_capture = [p for p in sys.path if p.endswith('price_transparency')]"
   ]
  },
  {
   "cell_type": "code",
   "execution_count": 0,
   "metadata": {
    "application/vnd.databricks.v1+cell": {
     "cellMetadata": {
      "byteLimit": 2048000,
      "rowLimit": 10000
     },
     "inputWidgets": {},
     "nuid": "0a840c94-59d2-4862-8608-aeba9697e4ad",
     "showTitle": false,
     "tableResultSettingsMap": {},
     "title": ""
    }
   },
   "outputs": [],
   "source": [
    "index_file_path = f\"/Workspace/Users/matthew.giglia@databricks.com/price_transparency/price_transparency/fixtures/{index_file_name}\"\n",
    "target_path = f\"/Volumes/{catalog_use}/{schema_use}/{volume_use}/{subdirectory}/{index_file_name}\""
   ]
  },
  {
   "cell_type": "code",
   "execution_count": 0,
   "metadata": {
    "application/vnd.databricks.v1+cell": {
     "cellMetadata": {
      "byteLimit": 2048000,
      "rowLimit": 10000
     },
     "inputWidgets": {},
     "nuid": "f752d724-342a-4319-a47b-7c66be52c839",
     "showTitle": false,
     "tableResultSettingsMap": {},
     "title": ""
    }
   },
   "outputs": [],
   "source": [
    "print(f\"\"\"\n",
    "  catalog_use: {catalog_use}\n",
    "  schema_use: {schema_use}\n",
    "  volume_use: {volume_use} \n",
    "  subdirectory: {subdirectory}\n",
    "  index_file_path: {index_file_path}\n",
    "  target_path: {target_path}      \n",
    "\"\"\")"
   ]
  },
  {
   "cell_type": "code",
   "execution_count": 0,
   "metadata": {
    "application/vnd.databricks.v1+cell": {
     "cellMetadata": {
      "byteLimit": 2048000,
      "rowLimit": 10000
     },
     "inputWidgets": {},
     "nuid": "2c50acfa-b601-48a7-bc16-fa08e1d34197",
     "showTitle": false,
     "tableResultSettingsMap": {},
     "title": ""
    }
   },
   "outputs": [],
   "source": [
    "cmd = f\"cp -f {index_file_path} {target_path}\"\n",
    "print(cmd)"
   ]
  },
  {
   "cell_type": "code",
   "execution_count": 0,
   "metadata": {
    "application/vnd.databricks.v1+cell": {
     "cellMetadata": {
      "byteLimit": 2048000,
      "rowLimit": 10000
     },
     "inputWidgets": {},
     "nuid": "c0545013-e059-4dea-b4d5-96651b2f2e17",
     "showTitle": false,
     "tableResultSettingsMap": {},
     "title": ""
    }
   },
   "outputs": [],
   "source": [
    "result = subprocess.run(cmd, shell=True, capture_output=True)\n",
    "print(result.stdout.decode(\"utf-8\") + \"\\n\" + result.stderr.decode(\"utf-8\"))"
   ]
  }
 ],
 "metadata": {
  "application/vnd.databricks.v1+notebook": {
   "computePreferences": null,
   "dashboards": [],
   "environmentMetadata": {
    "base_environment": "",
    "environment_version": "3"
   },
   "inputWidgetPreferences": null,
   "language": "python",
   "notebookMetadata": {
    "mostRecentlyExecutedCommandWithImplicitDF": {
     "commandId": -1,
     "dataframes": [
      "_sqldf"
     ]
    },
    "pythonIndentUnit": 2
   },
   "notebookName": "01 - Copy Index JSON to the Volume",
   "widgets": {
    "catalog_use": {
     "currentValue": "mgiglia",
     "nuid": "3a17e8e7-dee9-47d5-bc9f-7a7c4e39225f",
     "typedWidgetInfo": {
      "autoCreated": false,
      "defaultValue": "main",
      "label": null,
      "name": "catalog_use",
      "options": {
       "widgetDisplayType": "Text",
       "validationRegex": null
      },
      "parameterDataType": "String"
     },
     "widgetInfo": {
      "widgetType": "text",
      "defaultValue": "main",
      "label": null,
      "name": "catalog_use",
      "options": {
       "widgetType": "text",
       "autoCreated": null,
       "validationRegex": null
      }
     }
    },
    "index_file_name": {
     "currentValue": "2025-07-23_index.json",
     "nuid": "61d463f8-05cd-4249-be60-1dbdfe8a6d70",
     "typedWidgetInfo": {
      "autoCreated": false,
      "defaultValue": "2025-07-23_index.json",
      "label": null,
      "name": "index_file_name",
      "options": {
       "widgetDisplayType": "Text",
       "validationRegex": null
      },
      "parameterDataType": "String"
     },
     "widgetInfo": {
      "widgetType": "text",
      "defaultValue": "2025-07-23_index.json",
      "label": null,
      "name": "index_file_name",
      "options": {
       "widgetType": "text",
       "autoCreated": null,
       "validationRegex": null
      }
     }
    },
    "schema_use": {
     "currentValue": "dev_matthew_giglia_price_transparency",
     "nuid": "2581d5a7-eca9-4cb8-ab45-7fb62bc48cd7",
     "typedWidgetInfo": {
      "autoCreated": false,
      "defaultValue": "default",
      "label": null,
      "name": "schema_use",
      "options": {
       "widgetDisplayType": "Text",
       "validationRegex": null
      },
      "parameterDataType": "String"
     },
     "widgetInfo": {
      "widgetType": "text",
      "defaultValue": "default",
      "label": null,
      "name": "schema_use",
      "options": {
       "widgetType": "text",
       "autoCreated": null,
       "validationRegex": null
      }
     }
    },
    "subdirectory": {
     "currentValue": "in-network",
     "nuid": "73adba5d-4651-41b5-89ff-0ec2bd089f55",
     "typedWidgetInfo": {
      "autoCreated": false,
      "defaultValue": "in-network",
      "label": null,
      "name": "subdirectory",
      "options": {
       "widgetDisplayType": "Text",
       "validationRegex": null
      },
      "parameterDataType": "String"
     },
     "widgetInfo": {
      "widgetType": "text",
      "defaultValue": "in-network",
      "label": null,
      "name": "subdirectory",
      "options": {
       "widgetType": "text",
       "autoCreated": null,
       "validationRegex": null
      }
     }
    },
    "volume_use": {
     "currentValue": "landing",
     "nuid": "6eb72091-2c60-4308-baa8-8c9dbfae436e",
     "typedWidgetInfo": {
      "autoCreated": false,
      "defaultValue": "landing",
      "label": null,
      "name": "volume_use",
      "options": {
       "widgetDisplayType": "Text",
       "validationRegex": null
      },
      "parameterDataType": "String"
     },
     "widgetInfo": {
      "widgetType": "text",
      "defaultValue": "landing",
      "label": null,
      "name": "volume_use",
      "options": {
       "widgetType": "text",
       "autoCreated": null,
       "validationRegex": null
      }
     }
    }
   }
  },
  "language_info": {
   "name": "python"
  }
 },
 "nbformat": 4,
 "nbformat_minor": 0
}
