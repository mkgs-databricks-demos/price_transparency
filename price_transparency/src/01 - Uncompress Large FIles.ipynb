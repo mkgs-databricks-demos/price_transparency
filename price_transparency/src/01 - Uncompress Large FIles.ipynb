{
 "cells": [
  {
   "cell_type": "code",
   "execution_count": 0,
   "metadata": {
    "application/vnd.databricks.v1+cell": {
     "cellMetadata": {
      "byteLimit": 2048000,
      "rowLimit": 10000
     },
     "inputWidgets": {},
     "nuid": "3cfb2068-ab57-43e8-92c7-9385d8be778d",
     "showTitle": false,
     "tableResultSettingsMap": {},
     "title": ""
    }
   },
   "outputs": [],
   "source": [
    "# Widget Setup\n",
    "# Create widgets for catalog, schema, volume, and subdirectory selection\n",
    "# catalog_use: Name of the Unity Catalog catalog (default: 'main')\n",
    "dbutils.widgets.text(\"catalog_use\", \"main\")\n",
    "# schema_use: Name of the schema/database (default: 'default')\n",
    "dbutils.widgets.text(\"schema_use\", \"default\")\n",
    "# volume_use: Name of the volume (default: 'landing')\n",
    "dbutils.widgets.text(\"volume_use\", \"landing\")\n",
    "# subdirectory: Subdirectory to create inside the volume (default: 'in-network')\n",
    "dbutils.widgets.text(\"subdirectory\", \"in-network\")"
   ]
  },
  {
   "cell_type": "code",
   "execution_count": 0,
   "metadata": {
    "application/vnd.databricks.v1+cell": {
     "cellMetadata": {
      "byteLimit": 2048000,
      "rowLimit": 10000
     },
     "inputWidgets": {},
     "nuid": "36652b26-aa3a-4435-b76d-bbbf33e8d54f",
     "showTitle": false,
     "tableResultSettingsMap": {},
     "title": ""
    }
   },
   "outputs": [],
   "source": [
    "# Retrieve Widget Values\n",
    "# Retrieve widget values for catalog, schema, volume, and subdirectory\n",
    "catalog_use = dbutils.widgets.get(\"catalog_use\")\n",
    "schema_use = dbutils.widgets.get(\"schema_use\")\n",
    "volume_use = dbutils.widgets.get(\"volume_use\")\n",
    "subdirectory = dbutils.widgets.get(\"subdirectory\")"
   ]
  },
  {
   "cell_type": "code",
   "execution_count": 0,
   "metadata": {
    "application/vnd.databricks.v1+cell": {
     "cellMetadata": {
      "byteLimit": 2048000,
      "rowLimit": 10000
     },
     "inputWidgets": {},
     "nuid": "abe33b82-f939-4203-8b01-5e0798ef3f5e",
     "showTitle": false,
     "tableResultSettingsMap": {},
     "title": ""
    }
   },
   "outputs": [],
   "source": [
    "# Verify Widget Values\n",
    "# Print the selected widget values for verification, including the new subdirectory widget\n",
    "print(f\"\"\"\n",
    "  catalog_use: {catalog_use}\n",
    "  schema_use: {schema_use}\n",
    "  volume_use: {volume_use}\n",
    "  subdirectory: {subdirectory}\n",
    "\"\"\")"
   ]
  },
  {
   "cell_type": "code",
   "execution_count": 0,
   "metadata": {
    "application/vnd.databricks.v1+cell": {
     "cellMetadata": {
      "byteLimit": 2048000,
      "rowLimit": 10000
     },
     "inputWidgets": {},
     "nuid": "e4612eb2-c9bc-48f7-948f-31aa40a9023a",
     "showTitle": false,
     "tableResultSettingsMap": {},
     "title": ""
    }
   },
   "outputs": [],
   "source": [
    "# Create Directory in Workspace Volume\n",
    "# Construct and create the directory in the workspace volume\n",
    "# Validate widget inputs\n",
    "if not all([catalog_use, schema_use, volume_use, subdirectory]):\n",
    "    raise ValueError(\"All widget values (catalog, schema, volume, subdirectory) must be provided and non-empty.\")\n",
    "\n",
    "# Construct the directory path\n",
    "# Example: /Volumes/main/default/landing/in-network\n",
    "input_dir = f\"/Volumes/{catalog_use}/{schema_use}/{volume_use}/{subdirectory}/\"\n",
    "input_dir"
   ]
  },
  {
   "cell_type": "code",
   "execution_count": 0,
   "metadata": {
    "application/vnd.databricks.v1+cell": {
     "cellMetadata": {
      "byteLimit": 2048000,
      "rowLimit": 10000
     },
     "inputWidgets": {},
     "nuid": "e1e0063a-9d8a-47cf-b133-9c64c1b650b4",
     "showTitle": false,
     "tableResultSettingsMap": {},
     "title": ""
    }
   },
   "outputs": [],
   "source": [
    "import gzip\n",
    "import shutil\n",
    "import os\n",
    "\n",
    "output_dir = f\"{input_dir}/uncompressed/\"\n",
    "\n",
    "# List files in input_dir\n",
    "file_info_list = [{\"name\": f, \"path\": os.path.join(input_dir, f)} for f in os.listdir(input_dir)]\n",
    "\n",
    "for fname in file_info_list:\n",
    "    if fname['name'].endswith('.gz'):\n",
    "        with gzip.open(fname['path'], 'rb') as f_in:\n",
    "            out_path = output_dir + fname['name'][:-3]  # Remove .gz\n",
    "            with open(out_path, 'wb') as f_out:\n",
    "                shutil.copyfileobj(f_in, f_out)\n"
   ]
  }
 ],
 "metadata": {
  "application/vnd.databricks.v1+notebook": {
   "computePreferences": null,
   "dashboards": [],
   "environmentMetadata": {
    "base_environment": "",
    "environment_version": "3"
   },
   "inputWidgetPreferences": null,
   "language": "python",
   "notebookMetadata": {
    "pythonIndentUnit": 2
   },
   "notebookName": "01 - Uncompress Large FIles",
   "widgets": {
    "catalog_use": {
     "currentValue": "mgiglia",
     "nuid": "5ebc338c-492a-4392-a142-847207fe91f4",
     "typedWidgetInfo": {
      "autoCreated": false,
      "defaultValue": "main",
      "label": null,
      "name": "catalog_use",
      "options": {
       "widgetDisplayType": "Text",
       "validationRegex": null
      },
      "parameterDataType": "String"
     },
     "widgetInfo": {
      "widgetType": "text",
      "defaultValue": "main",
      "label": null,
      "name": "catalog_use",
      "options": {
       "widgetType": "text",
       "autoCreated": false,
       "validationRegex": null
      }
     }
    },
    "schema_use": {
     "currentValue": "dev_matthew_giglia_price_transparency",
     "nuid": "38d74cb2-9398-43ae-83cd-0640c0b3681c",
     "typedWidgetInfo": {
      "autoCreated": false,
      "defaultValue": "default",
      "label": null,
      "name": "schema_use",
      "options": {
       "widgetDisplayType": "Text",
       "validationRegex": null
      },
      "parameterDataType": "String"
     },
     "widgetInfo": {
      "widgetType": "text",
      "defaultValue": "default",
      "label": null,
      "name": "schema_use",
      "options": {
       "widgetType": "text",
       "autoCreated": false,
       "validationRegex": null
      }
     }
    },
    "subdirectory": {
     "currentValue": "in-network",
     "nuid": "e46441aa-8164-41b5-a99e-e2b538620e32",
     "typedWidgetInfo": {
      "autoCreated": false,
      "defaultValue": "in-network",
      "label": null,
      "name": "subdirectory",
      "options": {
       "widgetDisplayType": "Text",
       "validationRegex": null
      },
      "parameterDataType": "String"
     },
     "widgetInfo": {
      "widgetType": "text",
      "defaultValue": "in-network",
      "label": null,
      "name": "subdirectory",
      "options": {
       "widgetType": "text",
       "autoCreated": false,
       "validationRegex": null
      }
     }
    },
    "volume_use": {
     "currentValue": "landing",
     "nuid": "8780cddd-448d-4d23-ba76-9a329afafa94",
     "typedWidgetInfo": {
      "autoCreated": false,
      "defaultValue": "landing",
      "label": null,
      "name": "volume_use",
      "options": {
       "widgetDisplayType": "Text",
       "validationRegex": null
      },
      "parameterDataType": "String"
     },
     "widgetInfo": {
      "widgetType": "text",
      "defaultValue": "landing",
      "label": null,
      "name": "volume_use",
      "options": {
       "widgetType": "text",
       "autoCreated": false,
       "validationRegex": null
      }
     }
    }
   }
  },
  "language_info": {
   "name": "python"
  }
 },
 "nbformat": 4,
 "nbformat_minor": 0
}
