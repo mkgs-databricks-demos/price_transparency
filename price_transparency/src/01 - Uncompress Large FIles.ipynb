{
 "cells": [
  {
   "cell_type": "code",
   "execution_count": 0,
   "metadata": {
    "application/vnd.databricks.v1+cell": {
     "cellMetadata": {
      "byteLimit": 2048000,
      "rowLimit": 10000
     },
     "inputWidgets": {},
     "nuid": "3cfb2068-ab57-43e8-92c7-9385d8be778d",
     "showTitle": false,
     "tableResultSettingsMap": {},
     "title": ""
    }
   },
   "outputs": [],
   "source": [
    "# Widget Setup\n",
    "# Create widgets for catalog, schema, volume, and subdirectory selection\n",
    "# catalog_use: Name of the Unity Catalog catalog (default: 'main')\n",
    "dbutils.widgets.text(\"catalog_use\", \"main\")\n",
    "# schema_use: Name of the schema/database (default: 'default')\n",
    "dbutils.widgets.text(\"schema_use\", \"default\")\n",
    "# volume_use: Name of the volume (default: 'landing')\n",
    "dbutils.widgets.text(\"volume_use\", \"landing\")\n",
    "# subdirectory: Subdirectory to create inside the volume (default: 'in-network')\n",
    "dbutils.widgets.text(\"subdirectory\", \"in-network\")"
   ]
  },
  {
   "cell_type": "code",
   "execution_count": 0,
   "metadata": {
    "application/vnd.databricks.v1+cell": {
     "cellMetadata": {},
     "inputWidgets": {},
     "nuid": "36652b26-aa3a-4435-b76d-bbbf33e8d54f",
     "showTitle": false,
     "tableResultSettingsMap": {},
     "title": ""
    }
   },
   "outputs": [],
   "source": [
    "# Retrieve Widget Values\n",
    "# Retrieve widget values for catalog, schema, volume, and subdirectory\n",
    "catalog_use = dbutils.widgets.get(\"catalog_use\")\n",
    "schema_use = dbutils.widgets.get(\"schema_use\")\n",
    "volume_use = dbutils.widgets.get(\"volume_use\")\n",
    "subdirectory = dbutils.widgets.get(\"subdirectory\")"
   ]
  },
  {
   "cell_type": "code",
   "execution_count": 0,
   "metadata": {
    "application/vnd.databricks.v1+cell": {
     "cellMetadata": {},
     "inputWidgets": {},
     "nuid": "abe33b82-f939-4203-8b01-5e0798ef3f5e",
     "showTitle": false,
     "tableResultSettingsMap": {},
     "title": ""
    }
   },
   "outputs": [],
   "source": [
    "# Verify Widget Values\n",
    "# Print the selected widget values for verification, including the new subdirectory widget\n",
    "print(f\"\"\"\n",
    "  catalog_use: {catalog_use}\n",
    "  schema_use: {schema_use}\n",
    "  volume_use: {volume_use}\n",
    "  subdirectory: {subdirectory}\n",
    "\"\"\")"
   ]
  },
  {
   "cell_type": "code",
   "execution_count": 0,
   "metadata": {
    "application/vnd.databricks.v1+cell": {
     "cellMetadata": {},
     "inputWidgets": {},
     "nuid": "e1e0063a-9d8a-47cf-b133-9c64c1b650b4",
     "showTitle": false,
     "tableResultSettingsMap": {},
     "title": ""
    }
   },
   "outputs": [],
   "source": [
    "import gzip\n",
    "import shutil\n",
    "import os\n",
    "\n",
    "input_dir = '/Volumes/your_catalog/your_schema/your_volume/compressed/'\n",
    "output_dir = '/Volumes/your_catalog/your_schema/your_volume/uncompressed/'\n",
    "\n",
    "# List files in input_dir\n",
    "for fname in dbutils.fs.ls(input_dir):\n",
    "    if fname.name.endswith('.gz'):\n",
    "        with gzip.open(fname.path, 'rb') as f_in:\n",
    "            out_path = output_dir + fname.name[:-3]  # Remove .gz\n",
    "            with open(out_path, 'wb') as f_out:\n",
    "                shutil.copyfileobj(f_in, f_out)"
   ]
  }
 ],
 "metadata": {
  "application/vnd.databricks.v1+notebook": {
   "computePreferences": null,
   "dashboards": [],
   "environmentMetadata": {
    "base_environment": "",
    "environment_version": "3"
   },
   "inputWidgetPreferences": null,
   "language": "python",
   "notebookMetadata": {
    "pythonIndentUnit": 2
   },
   "notebookName": "01 - Uncompress Large FIles",
   "widgets": {}
  },
  "language_info": {
   "name": "python"
  }
 },
 "nbformat": 4,
 "nbformat_minor": 0
}
